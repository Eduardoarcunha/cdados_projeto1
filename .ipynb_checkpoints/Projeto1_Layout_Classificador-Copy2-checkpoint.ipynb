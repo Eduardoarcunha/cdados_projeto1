{
 "cells": [
  {
   "cell_type": "markdown",
   "metadata": {},
   "source": [
    "# Projeto 1 - Ciência dos Dados \n",
    "#### WandaVision"
   ]
  },
  {
   "cell_type": "markdown",
   "metadata": {},
   "source": [
    "**Nome:** Eduardo Araujo Rodrigues da Cunha\n",
    "\n",
    "**Nome:** Paulo Henrique Moreira Falcão\n",
    "\n",
    "**Nome:** Pedro Santos Rocha Von Dannecker"
   ]
  },
  {
   "cell_type": "markdown",
   "metadata": {},
   "source": [
    "Atenção: Serão permitidos grupos de três pessoas, mas com uma rubrica mais exigente. Grupos deste tamanho precisarão fazer um questionário de avaliação de trabalho em equipe"
   ]
  },
  {
   "cell_type": "markdown",
   "metadata": {},
   "source": [
    "___\n",
    "Carregando algumas bibliotecas:"
   ]
  },
  {
   "cell_type": "code",
   "execution_count": 1,
   "metadata": {},
   "outputs": [],
   "source": [
    "%matplotlib inline\n",
    "import pandas as pd\n",
    "import matplotlib.pyplot as plt\n",
    "import numpy as np\n",
    "import os\n",
    "\n",
    "#Bibliotecas utilizadas na função de limpeza\n",
    "import re\n",
    "import emoji\n",
    "import functools\n",
    "import operator\n",
    "\n",
    "\n",
    "#Função de biblioteca para criar dataframes de teste e treino aleatórios, retirado de:\n",
    "#https://stackoverflow.com/questions/24147278/how-do-i-create-test-and-train-samples-from-one-dataframe-with-pandas\n",
    "from sklearn.model_selection import train_test_split"
   ]
  },
  {
   "cell_type": "code",
   "execution_count": 2,
   "metadata": {
    "scrolled": false
   },
   "outputs": [
    {
     "name": "stdout",
     "output_type": "stream",
     "text": [
      "Esperamos trabalhar no diretório\n",
      "C:\\Users\\eduar\\Insper\\Semestres\\2 Semestre\\CDADOS\\cdados_projeto1\n"
     ]
    }
   ],
   "source": [
    "print('Esperamos trabalhar no diretório')\n",
    "print(os.getcwd())"
   ]
  },
  {
   "cell_type": "markdown",
   "metadata": {},
   "source": [
    "Carregando a base de dados com os tweets classificados como relevantes e não relevantes:"
   ]
  },
  {
   "cell_type": "code",
   "execution_count": 3,
   "metadata": {},
   "outputs": [],
   "source": [
    "filename = 'WandaVision.xlsx'"
   ]
  },
  {
   "cell_type": "code",
   "execution_count": 4,
   "metadata": {},
   "outputs": [
    {
     "data": {
      "text/html": [
       "<div>\n",
       "<style scoped>\n",
       "    .dataframe tbody tr th:only-of-type {\n",
       "        vertical-align: middle;\n",
       "    }\n",
       "\n",
       "    .dataframe tbody tr th {\n",
       "        vertical-align: top;\n",
       "    }\n",
       "\n",
       "    .dataframe thead th {\n",
       "        text-align: right;\n",
       "    }\n",
       "</style>\n",
       "<table border=\"1\" class=\"dataframe\">\n",
       "  <thead>\n",
       "    <tr style=\"text-align: right;\">\n",
       "      <th></th>\n",
       "      <th>Treinamento</th>\n",
       "      <th>Classificação</th>\n",
       "    </tr>\n",
       "  </thead>\n",
       "  <tbody>\n",
       "    <tr>\n",
       "      <th>0</th>\n",
       "      <td>é isso completei a #maratonamarvel\\ntodo o mcu...</td>\n",
       "      <td>4.0</td>\n",
       "    </tr>\n",
       "    <tr>\n",
       "      <th>1</th>\n",
       "      <td>eu disse ia esperar terminar todos os ep de so...</td>\n",
       "      <td>4.0</td>\n",
       "    </tr>\n",
       "    <tr>\n",
       "      <th>2</th>\n",
       "      <td>rt @spiderxmaximoff: supera wandavision andres...</td>\n",
       "      <td>3.0</td>\n",
       "    </tr>\n",
       "    <tr>\n",
       "      <th>3</th>\n",
       "      <td>@theolieluk respeito tua opinião.\\n\\neu, parti...</td>\n",
       "      <td>3.0</td>\n",
       "    </tr>\n",
       "    <tr>\n",
       "      <th>4</th>\n",
       "      <td>me senti um nerd explicando pra marcela sobre ...</td>\n",
       "      <td>2.0</td>\n",
       "    </tr>\n",
       "  </tbody>\n",
       "</table>\n",
       "</div>"
      ],
      "text/plain": [
       "                                         Treinamento  Classificação\n",
       "0  é isso completei a #maratonamarvel\\ntodo o mcu...            4.0\n",
       "1  eu disse ia esperar terminar todos os ep de so...            4.0\n",
       "2  rt @spiderxmaximoff: supera wandavision andres...            3.0\n",
       "3  @theolieluk respeito tua opinião.\\n\\neu, parti...            3.0\n",
       "4  me senti um nerd explicando pra marcela sobre ...            2.0"
      ]
     },
     "execution_count": 4,
     "metadata": {},
     "output_type": "execute_result"
    }
   ],
   "source": [
    "train = pd.read_excel(filename)\n",
    "train.head(5)"
   ]
  },
  {
   "cell_type": "code",
   "execution_count": 5,
   "metadata": {},
   "outputs": [
    {
     "data": {
      "text/html": [
       "<div>\n",
       "<style scoped>\n",
       "    .dataframe tbody tr th:only-of-type {\n",
       "        vertical-align: middle;\n",
       "    }\n",
       "\n",
       "    .dataframe tbody tr th {\n",
       "        vertical-align: top;\n",
       "    }\n",
       "\n",
       "    .dataframe thead th {\n",
       "        text-align: right;\n",
       "    }\n",
       "</style>\n",
       "<table border=\"1\" class=\"dataframe\">\n",
       "  <thead>\n",
       "    <tr style=\"text-align: right;\">\n",
       "      <th></th>\n",
       "      <th>Teste</th>\n",
       "      <th>Classificação</th>\n",
       "    </tr>\n",
       "  </thead>\n",
       "  <tbody>\n",
       "    <tr>\n",
       "      <th>0</th>\n",
       "      <td>wandavision é ruim demais.</td>\n",
       "      <td>0</td>\n",
       "    </tr>\n",
       "    <tr>\n",
       "      <th>1</th>\n",
       "      <td>rt @nacaomarvell: matt shakman, diretor de #wa...</td>\n",
       "      <td>2</td>\n",
       "    </tr>\n",
       "    <tr>\n",
       "      <th>2</th>\n",
       "      <td>rt @vitolly_: isso aqui foi lendário \\n#wandav...</td>\n",
       "      <td>3</td>\n",
       "    </tr>\n",
       "    <tr>\n",
       "      <th>3</th>\n",
       "      <td>ia começar wandavision mas esqueci que vi 0 fi...</td>\n",
       "      <td>2</td>\n",
       "    </tr>\n",
       "    <tr>\n",
       "      <th>4</th>\n",
       "      <td>bom já que terminou a primeira temporada de wa...</td>\n",
       "      <td>2</td>\n",
       "    </tr>\n",
       "  </tbody>\n",
       "</table>\n",
       "</div>"
      ],
      "text/plain": [
       "                                               Teste  Classificação\n",
       "0                         wandavision é ruim demais.              0\n",
       "1  rt @nacaomarvell: matt shakman, diretor de #wa...              2\n",
       "2  rt @vitolly_: isso aqui foi lendário \\n#wandav...              3\n",
       "3  ia começar wandavision mas esqueci que vi 0 fi...              2\n",
       "4  bom já que terminou a primeira temporada de wa...              2"
      ]
     },
     "execution_count": 5,
     "metadata": {},
     "output_type": "execute_result"
    }
   ],
   "source": [
    "test = pd.read_excel(filename, sheet_name = 'Teste')\n",
    "test.head(5)"
   ]
  },
  {
   "cell_type": "markdown",
   "metadata": {},
   "source": [
    "___\n",
    "## Classificador automático de sentimento\n"
   ]
  },
  {
   "cell_type": "markdown",
   "metadata": {},
   "source": [
    "Faça aqui uma descrição do seu produto e o que considerou como relevante ou não relevante na classificação dos tweets.\n",
    "\n",
    "O produto escolhido foi a série da plataforma de streaming Disney+ WandaVision, as cinco categorias para a análise de tweets foram as seguintes:\n",
    "\n",
    "   * 0: Comentário muito negativo\n",
    "\n",
    "   * 1: Comentário negativo\n",
    "\n",
    "   * 2: Comentário neutro ou irrelavante\n",
    "\n",
    "   * 3: Comentário positivo\n",
    "\n",
    "   * 4: Comentário muito positivo\n"
   ]
  },
  {
   "cell_type": "markdown",
   "metadata": {},
   "source": [
    "___\n",
    "### Montando um Classificador Naive-Bayes\n",
    "\n",
    "Considerando apenas as mensagens da planilha Treinamento, ensine  seu classificador."
   ]
  },
  {
   "cell_type": "code",
   "execution_count": 6,
   "metadata": {},
   "outputs": [],
   "source": [
    "#Função de limpeza simples, fornecida em aula\n",
    "def cleanup(text):\n",
    "\n",
    "    #Limpeza de algumas pontuações e outros\n",
    "    punctuation = '[!-.:?;()\"]' # Note que os sinais [] são delimitadores de um conjunto.\n",
    "    pattern = re.compile(punctuation)\n",
    "    text1 = re.sub(pattern,'', text)\n",
    "    \n",
    "    \n",
    "    #Função para identificação de emojis extraída de: \n",
    "    #https://stackoverflow.com/questions/49921720/how-to-split-emoji-from-each-other-python\n",
    "    \n",
    "    text_split_emoji = emoji.get_emoji_regexp().split(text1)\n",
    "    text_split_whitespace = [substr.split() for substr in text_split_emoji]\n",
    "    text = functools.reduce(operator.concat, text_split_whitespace)\n",
    "    \n",
    "    \n",
    "    return ' '.join(text)"
   ]
  },
  {
   "cell_type": "code",
   "execution_count": 7,
   "metadata": {},
   "outputs": [],
   "source": [
    "#Separando o dataframe pela classificação realizada manualmente\n",
    "train_gp = train.groupby(['Classificação'])\n",
    "\n",
    "#Dataframes de treino para cada classificação\n",
    "train0 = train_gp.get_group(0).copy() #0\n",
    "train1 = train_gp.get_group(1).copy() #1\n",
    "train2 = train_gp.get_group(2).copy() #2\n",
    "train3 = train_gp.get_group(3).copy() #3\n",
    "train4 = train_gp.get_group(4).copy() #4\n",
    "\n",
    "#Listas de palavras para cada classificação\n",
    "palavras0 = [] #0\n",
    "palavras1 = [] #1\n",
    "palavras2 = [] #2\n",
    "palavras3 = [] #3\n",
    "palavras4 = [] #4\n",
    "\n",
    "#Lista de palavras contidas em todas essas classificações\n",
    "todas_palavras = []"
   ]
  },
  {
   "cell_type": "code",
   "execution_count": 8,
   "metadata": {},
   "outputs": [
    {
     "name": "stderr",
     "output_type": "stream",
     "text": [
      "C:\\Users\\eduar\\anaconda3\\lib\\site-packages\\pandas\\core\\indexing.py:671: SettingWithCopyWarning: \n",
      "A value is trying to be set on a copy of a slice from a DataFrame\n",
      "\n",
      "See the caveats in the documentation: https://pandas.pydata.org/pandas-docs/stable/user_guide/indexing.html#returning-a-view-versus-a-copy\n",
      "  self._setitem_with_indexer(indexer, value)\n"
     ]
    }
   ],
   "source": [
    "#Loops para usar a função cleanup em cada tweet dos dataframes e adição das palavras nas listas\n",
    "\n",
    "#Classificação 0\n",
    "for e in range(0,len(train0['Treinamento'])):\n",
    "    train0.Treinamento.iloc[e] = cleanup(train0.Treinamento.iloc[e].lower())\n",
    "    \n",
    "    temporario = train0.Treinamento.iloc[e].split()\n",
    "    \n",
    "    for i in temporario:\n",
    "        palavras0.append(i)\n",
    "\n",
    "\n",
    "#Classificação 1\n",
    "for e in range(0,len(train1['Treinamento'])):\n",
    "    train1.Treinamento.iloc[e] = cleanup(train1.Treinamento.iloc[e].lower())\n",
    "\n",
    "    temporario = train1.Treinamento.iloc[e].split()\n",
    "    \n",
    "    for i in temporario:\n",
    "        palavras1.append(i)\n",
    "    \n",
    "    \n",
    "#Classificação 2\n",
    "for e in range(0,len(train2['Treinamento'])):\n",
    "    train2.Treinamento.iloc[e] = cleanup(train2.Treinamento.iloc[e].lower())\n",
    "    \n",
    "    temporario = train2.Treinamento.iloc[e].split()\n",
    "    \n",
    "    for i in temporario:\n",
    "        palavras2.append(i)\n",
    "\n",
    "    \n",
    "#Classificação 3\n",
    "for e in range(0,len(train3['Treinamento'])):\n",
    "    train3.Treinamento.iloc[e] = cleanup(train3.Treinamento.iloc[e].lower())\n",
    "    \n",
    "    temporario = train3.Treinamento.iloc[e].split()\n",
    "    \n",
    "    for i in temporario:\n",
    "        palavras3.append(i)\n",
    "    \n",
    "\n",
    "#Classificação 4\n",
    "for e in range(0,len(train4['Treinamento'])):\n",
    "    train4.Treinamento.iloc[e] = cleanup(train4.Treinamento.iloc[e].lower())  \n",
    "    \n",
    "    temporario = train4.Treinamento.iloc[e].split()\n",
    "    \n",
    "    for i in temporario:\n",
    "        palavras4.append(i)\n",
    "\n",
    "        \n",
    "#Lista com todas as palavras\n",
    "todas_palavras = palavras0 + palavras1 + palavras2 + palavras3 + palavras4"
   ]
  },
  {
   "cell_type": "code",
   "execution_count": 9,
   "metadata": {},
   "outputs": [],
   "source": [
    "#Loop para usar a função cleanup nos tweets de teste\n",
    "teste_clean = test.copy()\n",
    "\n",
    "for e in range(0,len(teste_clean['Teste'])):\n",
    "    teste_clean.Teste.iloc[e] = cleanup(teste_clean.Teste.iloc[e].lower())"
   ]
  },
  {
   "cell_type": "code",
   "execution_count": 10,
   "metadata": {},
   "outputs": [],
   "source": [
    "#Series das listas de palavras\n",
    "serie_palavras0 = pd.Series(palavras0) #0\n",
    "serie_palavras1 = pd.Series(palavras1) #1\n",
    "serie_palavras2 = pd.Series(palavras2) #2\n",
    "serie_palavras3 = pd.Series(palavras3) #3\n",
    "serie_palavras4 = pd.Series(palavras4) #4\n",
    "serie_todas_palavras = pd.Series(todas_palavras) #Todas"
   ]
  },
  {
   "cell_type": "code",
   "execution_count": 11,
   "metadata": {},
   "outputs": [],
   "source": [
    "#Tabelas absolutas das palavras\n",
    "tabela_palavras0_absoluta = serie_palavras0.value_counts() #0\n",
    "tabela_palavras1_absoluta = serie_palavras1.value_counts() #1\n",
    "tabela_palavras2_absoluta = serie_palavras2.value_counts() #2\n",
    "tabela_palavras3_absoluta = serie_palavras3.value_counts() #3\n",
    "tabela_palavras4_absoluta = serie_palavras4.value_counts() #4\n",
    "tabela_todas_palavras_absoluta = serie_todas_palavras.value_counts() #Todas"
   ]
  },
  {
   "cell_type": "code",
   "execution_count": 12,
   "metadata": {},
   "outputs": [],
   "source": [
    "#Probabilidades de uma palavra pertencer a uma classificação\n",
    "prob0 = len(palavras0) / len(todas_palavras) #0\n",
    "prob1 = len(palavras1) / len(todas_palavras) #1\n",
    "prob2 = len(palavras2) / len(todas_palavras) #2\n",
    "prob3 = len(palavras3) / len(todas_palavras) #3\n",
    "prob4 = len(palavras4) / len(todas_palavras) #4"
   ]
  },
  {
   "cell_type": "markdown",
   "metadata": {},
   "source": [
    "___\n",
    "### Verificando a performance do Classificador\n",
    "\n",
    "Agora você deve testar o seu classificador com a base de Testes."
   ]
  },
  {
   "cell_type": "markdown",
   "metadata": {},
   "source": [
    "#### Função classificadora\n",
    "\n",
    "Função responsável por classificar um tweet, utilizando Naive-Bayes e a suavização de La Place"
   ]
  },
  {
   "cell_type": "code",
   "execution_count": 13,
   "metadata": {},
   "outputs": [],
   "source": [
    "#Função que classifica um tweet fornecido\n",
    "def classifica(tweet):\n",
    "    \n",
    "    #Probabilidades iniciais\n",
    "    probTweetDado0 = 1\n",
    "    probTweetDado1 = 1\n",
    "    probTweetDado2 = 1\n",
    "    probTweetDado3 = 1\n",
    "    probTweetDado4 = 1\n",
    "    \n",
    "    #Limpando o tweet com a função cleanup e separando-o em uma lista de palavras\n",
    "    tweet_limpo = cleanup(tweet).split()\n",
    "    \n",
    "    #Para cada palavra(e) do tweet_limpo\n",
    "    for e in tweet_limpo:\n",
    "        \n",
    "        if e in tabela_palavras0_absoluta:\n",
    "            P_temporario0 = (tabela_palavras0_absoluta[e] + 1) / (tabela_palavras0_absoluta.sum() + len(tabela_todas_palavras_absoluta))\n",
    "        else:\n",
    "            P_temporario0 = 1 / (tabela_palavras0_absoluta.sum() + len(tabela_todas_palavras_absoluta))\n",
    "            \n",
    "        probTweetDado0 = probTweetDado0 * P_temporario0\n",
    "        \n",
    "        \n",
    "\n",
    "        if e in tabela_palavras1_absoluta:\n",
    "            P_temporario1 = (tabela_palavras1_absoluta[e] + 1) / (tabela_palavras1_absoluta.sum() + len(tabela_todas_palavras_absoluta))\n",
    "        else:\n",
    "            P_temporario1 = 1 / (tabela_palavras1_absoluta.sum() + len(tabela_todas_palavras_absoluta))\n",
    "            \n",
    "        probTweetDado1 = probTweetDado1 * P_temporario1\n",
    "        \n",
    "        \n",
    "        \n",
    "        if e in tabela_palavras2_absoluta:\n",
    "            P_temporario2 = (tabela_palavras2_absoluta[e] + 1) / (tabela_palavras2_absoluta.sum() + len(tabela_todas_palavras_absoluta))\n",
    "        else:\n",
    "            P_temporario2 = 1 / (tabela_palavras2_absoluta.sum() + len(tabela_todas_palavras_absoluta))\n",
    "        \n",
    "        probTweetDado2 = probTweetDado2 * P_temporario2\n",
    "        \n",
    "        \n",
    "\n",
    "        if e in tabela_palavras3_absoluta:\n",
    "            P_temporario3 = (tabela_palavras3_absoluta[e] + 1) / (tabela_palavras3_absoluta.sum() + len(tabela_todas_palavras_absoluta))\n",
    "        else:\n",
    "            P_temporario3 = 1 / (tabela_palavras3_absoluta.sum() + len(tabela_todas_palavras_absoluta))\n",
    "        \n",
    "        probTweetDado3 = probTweetDado3 * P_temporario3\n",
    "        \n",
    "        \n",
    "        \n",
    "        if e in tabela_palavras4_absoluta:\n",
    "            P_temporario4 = (tabela_palavras4_absoluta[e] + 1) / (tabela_palavras4_absoluta.sum() + len(tabela_todas_palavras_absoluta))\n",
    "        else:\n",
    "            P_temporario4 = 1 / (tabela_palavras4_absoluta.sum() + len(tabela_todas_palavras_absoluta))\n",
    "        \n",
    "        probTweetDado4 = probTweetDado4 * P_temporario4\n",
    "        \n",
    "        \n",
    "    #Probabilidades finais do tweet   \n",
    "    prob0DadoTweet = probTweetDado0 * prob0\n",
    "    prob1DadoTweet = probTweetDado1 * prob1\n",
    "    prob2DadoTweet = probTweetDado2 * prob2\n",
    "    prob3DadoTweet = probTweetDado3 * prob3\n",
    "    prob4DadoTweet = probTweetDado4 * prob4\n",
    "    \n",
    "    #Lista com probabilidades\n",
    "    probs = [prob0DadoTweet,prob1DadoTweet,prob2DadoTweet,prob3DadoTweet,prob4DadoTweet]\n",
    "    \n",
    "    #Loop que verifica qual a maior probabilidade e retorna sua classificação de acordo com o índice na lista\n",
    "    p_max = 0\n",
    "    i_max = 0\n",
    "    for i,e in enumerate(probs):\n",
    "        if e >= p_max:\n",
    "            p_max = e\n",
    "            i_max = i\n",
    "    \n",
    "    return i_max"
   ]
  },
  {
   "cell_type": "markdown",
   "metadata": {},
   "source": [
    "#### Classificando o dataframe teste"
   ]
  },
  {
   "cell_type": "code",
   "execution_count": 14,
   "metadata": {},
   "outputs": [],
   "source": [
    "#Criando lista com as classificações do tweet de teste\n",
    "tweets_teste = list(teste_clean.Teste)\n",
    "class_tweets = []\n",
    "for a in tweets_teste:\n",
    "    class_tweets.append(classifica(a))       "
   ]
  },
  {
   "cell_type": "code",
   "execution_count": 15,
   "metadata": {},
   "outputs": [
    {
     "data": {
      "text/html": [
       "<div>\n",
       "<style scoped>\n",
       "    .dataframe tbody tr th:only-of-type {\n",
       "        vertical-align: middle;\n",
       "    }\n",
       "\n",
       "    .dataframe tbody tr th {\n",
       "        vertical-align: top;\n",
       "    }\n",
       "\n",
       "    .dataframe thead th {\n",
       "        text-align: right;\n",
       "    }\n",
       "</style>\n",
       "<table border=\"1\" class=\"dataframe\">\n",
       "  <thead>\n",
       "    <tr style=\"text-align: right;\">\n",
       "      <th>ClassTweets</th>\n",
       "      <th>1</th>\n",
       "      <th>2</th>\n",
       "      <th>3</th>\n",
       "      <th>4</th>\n",
       "    </tr>\n",
       "    <tr>\n",
       "      <th>Classificação</th>\n",
       "      <th></th>\n",
       "      <th></th>\n",
       "      <th></th>\n",
       "      <th></th>\n",
       "    </tr>\n",
       "  </thead>\n",
       "  <tbody>\n",
       "    <tr>\n",
       "      <th>0</th>\n",
       "      <td>0.0</td>\n",
       "      <td>2.0</td>\n",
       "      <td>0.2</td>\n",
       "      <td>0.0</td>\n",
       "    </tr>\n",
       "    <tr>\n",
       "      <th>1</th>\n",
       "      <td>0.0</td>\n",
       "      <td>3.4</td>\n",
       "      <td>2.6</td>\n",
       "      <td>0.0</td>\n",
       "    </tr>\n",
       "    <tr>\n",
       "      <th>2</th>\n",
       "      <td>0.4</td>\n",
       "      <td>51.4</td>\n",
       "      <td>9.2</td>\n",
       "      <td>0.6</td>\n",
       "    </tr>\n",
       "    <tr>\n",
       "      <th>3</th>\n",
       "      <td>0.4</td>\n",
       "      <td>14.6</td>\n",
       "      <td>6.8</td>\n",
       "      <td>0.4</td>\n",
       "    </tr>\n",
       "    <tr>\n",
       "      <th>4</th>\n",
       "      <td>0.0</td>\n",
       "      <td>4.6</td>\n",
       "      <td>2.6</td>\n",
       "      <td>0.8</td>\n",
       "    </tr>\n",
       "  </tbody>\n",
       "</table>\n",
       "</div>"
      ],
      "text/plain": [
       "ClassTweets      1     2    3    4\n",
       "Classificação                     \n",
       "0              0.0   2.0  0.2  0.0\n",
       "1              0.0   3.4  2.6  0.0\n",
       "2              0.4  51.4  9.2  0.6\n",
       "3              0.4  14.6  6.8  0.4\n",
       "4              0.0   4.6  2.6  0.8"
      ]
     },
     "execution_count": 15,
     "metadata": {},
     "output_type": "execute_result"
    }
   ],
   "source": [
    "#Tabela de análise entre a classificação manual e a feita pelo classificador\n",
    "test['ClassTweets'] = class_tweets\n",
    "\n",
    "tab = pd.crosstab(test['Classificação'],test['ClassTweets'],normalize = True) *100\n",
    "\n",
    "tab"
   ]
  },
  {
   "cell_type": "markdown",
   "metadata": {},
   "source": [
    "#### Conferindo se o classificador classificou em 5 categorias diferentes\n",
    "\n",
    "Ao realizarmos a simulação percebeu-se que nem sempre o classificador classificava tweets com a categoria 0, por isso, criou-se a seguinte condição para garantir que a porcentagem de acerto final seja calculada corretamente."
   ]
  },
  {
   "cell_type": "code",
   "execution_count": 22,
   "metadata": {},
   "outputs": [
    {
     "name": "stdout",
     "output_type": "stream",
     "text": [
      "\n",
      "A porcentagem de acertos do classificador é: 58.40 %\n"
     ]
    }
   ],
   "source": [
    "#Se não classificou nenhum tweet com a categoria 0\n",
    "if len(set(list(test['ClassTweets']))) == 4:\n",
    "\n",
    "    porc_acertos = tab.iloc[1,0] + tab.iloc[2,1] + tab.iloc[3,2] + tab.iloc[4,3]\n",
    "\n",
    "else:\n",
    "    porc_acertos = tab.iloc[0,0] + tab.iloc[1,1] + tab.iloc[2,2] + tab.iloc[3,3] + tab.iloc[4,4]\n",
    "    \n",
    "    \n",
    "print(\"\\nA porcentagem de acertos do classificador é:\",\"%.2f\" % porc_acertos,'%')"
   ]
  },
  {
   "cell_type": "markdown",
   "metadata": {},
   "source": [
    "___\n",
    "### Conclusão - Primeira Versão"
   ]
  },
  {
   "cell_type": "raw",
   "metadata": {},
   "source": [
    "    Na primeira versão do classificador, este teve um acerto de 59%, e analisando seus resultados, percebeu-se que os erros concentraram-se principalmente ao classificar as categorias 0 e 1, possívelmente devido a amostra de tweets coletado, que possui um número muito maior de tweets de classificação 2, 3 e 4 em relação a essas outras duas classes, dificultando os acertos do classificador Naive Bayes devido a esse número muito menor de palavras pertencentes a essas duas classes, além de que o número altíssimo de palavras de categoria 2 pode ter aumentado em muito o peso da classificação 2.\n",
    "    \n",
    "    Outro fator que pode ter atrapalhado são as mensagens de dupla negação e de sarcasmo, pois o classificador relaciona para cada palavra uma certa porcentagem, isto é, ele não analisa o contexto das palavras em todo o tweet mas sim aquela palavra individualmente.\n",
    "    \n",
    "    Assim, quando existe uma dupla negação ele não vai analisar essa dupla negação em si, mas sim, cada palavra do tweet, e de forma semelhante ele não consegue identificar sarcasmo nos tweets, já que para identificar sarcamos seria necessário observar todo o contexto do tweet. Porém, vale ressaltar que entre os tweets escolhidos, foram pouquíssimos aqueles com presença de sarcarsmo, desta forma, o maior problema dentre essas duas situações provavelmente foram as mensagens de dupla negação.\n",
    "    \n",
    "    Pensando em melhorar nosso classificador, chegamos a seguinte alternativa:\n",
    "        Juntar as categorias 0 e 1, já que são as duas classificações com menor número de tweets."
   ]
  },
  {
   "cell_type": "markdown",
   "metadata": {},
   "source": [
    "___\n",
    "### Melhorando o Classificador Naive-Bayes - Segunda Versão\n",
    "\n",
    "Versão que junta as categorias 0 e 1 em apenas uma."
   ]
  },
  {
   "cell_type": "code",
   "execution_count": 23,
   "metadata": {},
   "outputs": [
    {
     "name": "stderr",
     "output_type": "stream",
     "text": [
      "C:\\Users\\eduar\\anaconda3\\lib\\site-packages\\pandas\\core\\indexing.py:671: SettingWithCopyWarning: \n",
      "A value is trying to be set on a copy of a slice from a DataFrame\n",
      "\n",
      "See the caveats in the documentation: https://pandas.pydata.org/pandas-docs/stable/user_guide/indexing.html#returning-a-view-versus-a-copy\n",
      "  self._setitem_with_indexer(indexer, value)\n"
     ]
    }
   ],
   "source": [
    "#Novo dataframe de treino com tweets classificados como 0 ou 1\n",
    "train0_1 = train.loc[(train['Classificação'] == 0) | (train['Classificação'] == 1),:].copy()\n",
    "\n",
    "#Lista de palavras pertencentes aos tweets classificados como 0 ou 1\n",
    "palavras0_1 = []\n",
    "\n",
    "#Loops para usar a função cleanup em cada tweet do dataframe e adição das palavras na lista\n",
    "for e in range(0,len(train0_1['Treinamento'])):\n",
    "    train0_1.Treinamento.iloc[e] = cleanup(train0_1.Treinamento.iloc[e].lower())\n",
    "    temporario = train0_1.Treinamento.iloc[e].split()\n",
    "    \n",
    "    for i in temporario:\n",
    "        palavras0_1.append(i)\n",
    "        \n",
    "        \n",
    "#Serie da lista de palavras pertencentes a 0 ou 1\n",
    "serie_palavras0_1 = pd.Series(palavras0_1)\n",
    "\n",
    "#Tabela de frequencia absoluta da serie de palavras pertencentes a 0 ou 1\n",
    "tabela_palavras0_1_absoluta = serie_palavras0_1.value_counts()\n",
    "\n",
    "#Probabilidades de uma palavra pertencer classificação 0 ou 1\n",
    "prob0_1 = len(palavras0_1) / len(todas_palavras)"
   ]
  },
  {
   "cell_type": "markdown",
   "metadata": {},
   "source": [
    "___\n",
    "### Verificando a performance da segunda versão\n",
    "\n",
    "Função \"classifica2\" representa a versão com apenas \"4\" classificações possíveis:"
   ]
  },
  {
   "cell_type": "code",
   "execution_count": 24,
   "metadata": {},
   "outputs": [],
   "source": [
    "def classifica2(tweet):\n",
    "    \n",
    "    #Probabilidades iniciais\n",
    "    probTweetDado0_1 = 1\n",
    "    probTweetDado2 = 1\n",
    "    probTweetDado3 = 1\n",
    "    probTweetDado4 = 1\n",
    "    \n",
    "    #Limpando o tweet com a função cleanup e separando-o em uma lista de palavras\n",
    "    tweet_limpo = cleanup(tweet).split()\n",
    "    \n",
    "    \n",
    "    #Para cada palavra(e) do tweet_limpo\n",
    "    for e in tweet_limpo:\n",
    "        \n",
    "        if e in tabela_palavras0_1_absoluta:\n",
    "            P_temporario0_1 = (tabela_palavras0_1_absoluta[e] + 1) / (tabela_palavras0_1_absoluta.sum() + len(tabela_todas_palavras_absoluta))\n",
    "        else:\n",
    "            P_temporario0_1 = 1 / (tabela_palavras0_1_absoluta.sum() + len(tabela_todas_palavras_absoluta))\n",
    "            \n",
    "        probTweetDado0_1 = probTweetDado0_1 * P_temporario0_1\n",
    "        \n",
    "        \n",
    "        \n",
    "        if e in tabela_palavras2_absoluta:\n",
    "            P_temporario2 = (tabela_palavras2_absoluta[e] + 1) / (tabela_palavras2_absoluta.sum() + len(tabela_todas_palavras_absoluta))\n",
    "        else:\n",
    "            P_temporario2 = 1 / (tabela_palavras2_absoluta.sum() + len(tabela_todas_palavras_absoluta))\n",
    "        \n",
    "        probTweetDado2 = probTweetDado2 * P_temporario2\n",
    "        \n",
    "        \n",
    "\n",
    "        if e in tabela_palavras3_absoluta:\n",
    "            P_temporario3 = (tabela_palavras3_absoluta[e] + 1) / (tabela_palavras3_absoluta.sum() + len(tabela_todas_palavras_absoluta))\n",
    "        else:\n",
    "            P_temporario3 = 1 / (tabela_palavras3_absoluta.sum() + len(tabela_todas_palavras_absoluta))\n",
    "        \n",
    "        probTweetDado3 = probTweetDado3 * P_temporario3\n",
    "        \n",
    "        \n",
    "        \n",
    "        if e in tabela_palavras4_absoluta:\n",
    "            P_temporario4 = (tabela_palavras4_absoluta[e] + 1) / (tabela_palavras4_absoluta.sum() + len(tabela_todas_palavras_absoluta))\n",
    "        else:\n",
    "            P_temporario4 = 1 / (tabela_palavras4_absoluta.sum() + len(tabela_todas_palavras_absoluta))\n",
    "        \n",
    "        probTweetDado4 = probTweetDado4 * P_temporario4\n",
    "        \n",
    "        \n",
    "        \n",
    "    #Probabilidades finais do tweet\n",
    "    prob0_1DadoTweet = probTweetDado0_1 * prob0_1\n",
    "    prob2DadoTweet = probTweetDado2 * prob2\n",
    "    prob3DadoTweet = probTweetDado3 * prob3\n",
    "    prob4DadoTweet = probTweetDado4 * prob4\n",
    "    \n",
    "    #Lista com probabilidades\n",
    "    probs = [prob0_1DadoTweet,prob2DadoTweet,prob3DadoTweet,prob4DadoTweet]\n",
    "    \n",
    "    #Loop que verifica qual a maior probabilidade e retorna sua classificação de acordo com o índice na lista\n",
    "    p_max = 0\n",
    "    i_max = 0\n",
    "    for i,e in enumerate(probs):\n",
    "        if e >= p_max:\n",
    "            p_max = e\n",
    "            i_max = i\n",
    "    \n",
    "    return i_max + 1"
   ]
  },
  {
   "cell_type": "markdown",
   "metadata": {},
   "source": [
    "#### Classificando o dataframe teste"
   ]
  },
  {
   "cell_type": "code",
   "execution_count": 25,
   "metadata": {},
   "outputs": [],
   "source": [
    "#Criando lista com as classificações do tweet de teste\n",
    "class_tweets2 = []\n",
    "for a in tweets_teste:\n",
    "    class_tweets2.append(classifica2(a))"
   ]
  },
  {
   "cell_type": "code",
   "execution_count": 26,
   "metadata": {},
   "outputs": [
    {
     "data": {
      "text/html": [
       "<div>\n",
       "<style scoped>\n",
       "    .dataframe tbody tr th:only-of-type {\n",
       "        vertical-align: middle;\n",
       "    }\n",
       "\n",
       "    .dataframe tbody tr th {\n",
       "        vertical-align: top;\n",
       "    }\n",
       "\n",
       "    .dataframe thead th {\n",
       "        text-align: right;\n",
       "    }\n",
       "</style>\n",
       "<table border=\"1\" class=\"dataframe\">\n",
       "  <thead>\n",
       "    <tr style=\"text-align: right;\">\n",
       "      <th>ClassTweets2</th>\n",
       "      <th>1</th>\n",
       "      <th>2</th>\n",
       "      <th>3</th>\n",
       "      <th>4</th>\n",
       "    </tr>\n",
       "    <tr>\n",
       "      <th>Classificação</th>\n",
       "      <th></th>\n",
       "      <th></th>\n",
       "      <th></th>\n",
       "      <th></th>\n",
       "    </tr>\n",
       "  </thead>\n",
       "  <tbody>\n",
       "    <tr>\n",
       "      <th>0</th>\n",
       "      <td>0.0</td>\n",
       "      <td>2.0</td>\n",
       "      <td>0.2</td>\n",
       "      <td>0.0</td>\n",
       "    </tr>\n",
       "    <tr>\n",
       "      <th>1</th>\n",
       "      <td>0.0</td>\n",
       "      <td>3.4</td>\n",
       "      <td>2.6</td>\n",
       "      <td>0.0</td>\n",
       "    </tr>\n",
       "    <tr>\n",
       "      <th>2</th>\n",
       "      <td>1.4</td>\n",
       "      <td>50.8</td>\n",
       "      <td>8.8</td>\n",
       "      <td>0.6</td>\n",
       "    </tr>\n",
       "    <tr>\n",
       "      <th>3</th>\n",
       "      <td>0.6</td>\n",
       "      <td>14.6</td>\n",
       "      <td>6.8</td>\n",
       "      <td>0.2</td>\n",
       "    </tr>\n",
       "    <tr>\n",
       "      <th>4</th>\n",
       "      <td>0.0</td>\n",
       "      <td>4.6</td>\n",
       "      <td>2.6</td>\n",
       "      <td>0.8</td>\n",
       "    </tr>\n",
       "  </tbody>\n",
       "</table>\n",
       "</div>"
      ],
      "text/plain": [
       "ClassTweets2     1     2    3    4\n",
       "Classificação                     \n",
       "0              0.0   2.0  0.2  0.0\n",
       "1              0.0   3.4  2.6  0.0\n",
       "2              1.4  50.8  8.8  0.6\n",
       "3              0.6  14.6  6.8  0.2\n",
       "4              0.0   4.6  2.6  0.8"
      ]
     },
     "execution_count": 26,
     "metadata": {},
     "output_type": "execute_result"
    }
   ],
   "source": [
    "#Tabela de análise entre a classificação manual e a feita pelo classificador\n",
    "test['ClassTweets2'] = class_tweets2\n",
    "\n",
    "tab = pd.crosstab(test['Classificação'],test['ClassTweets2'],normalize = True) *100\n",
    "\n",
    "tab"
   ]
  },
  {
   "cell_type": "code",
   "execution_count": 27,
   "metadata": {},
   "outputs": [
    {
     "name": "stdout",
     "output_type": "stream",
     "text": [
      "\n",
      "A porcentagem de acertos do classificador em sua segunda versão é: 58.40 %\n"
     ]
    }
   ],
   "source": [
    "porc_acertos2 = tab.iloc[0,0] + tab.iloc[1,0] + tab.iloc[2,1] + tab.iloc[3,2] + tab.iloc[4,3]\n",
    "\n",
    "print(\"\\nA porcentagem de acertos do classificador em sua segunda versão é:\",\"%.2f\" % porc_acertos2,'%')"
   ]
  },
  {
   "cell_type": "markdown",
   "metadata": {},
   "source": [
    "___\n",
    "### Conclusão - Segunda Versão"
   ]
  },
  {
   "cell_type": "raw",
   "metadata": {},
   "source": [
    "    Na segunda versão, juntamos as classes 0 e 1, para tentar melhorar a porcentagem de acertos do classificador, contudo, a porcentagem de classificação piorou um pouco, 0.6% ressaltando o problema citado anteriormente, de que o número de tweets classificados como 2 principalmente, está substancialmente maior que os tweets com outras classificações, atrapalhando bastante o classificador, dessa forma, uma nova alternativa seria melhorar a base de dados, aumentando o número de tweets com outras classificações. \n",
    "    Mas para ter certeza que essa versão é realmente pior, simulou-se 100 vezes cada classificador com diferentes bases de treinamento, para ver um histograma com a porcentagem de acerto de cada um, e ver se realmente o segundo classificador está pior do que o primeiro."
   ]
  },
  {
   "cell_type": "markdown",
   "metadata": {},
   "source": [
    "___\n",
    "### Qualidade do Classificador a partir de novas separações dos tweets entre Treinamento e Teste\n",
    "\n",
    "Caso for fazer esse item do Projeto"
   ]
  },
  {
   "cell_type": "code",
   "execution_count": 28,
   "metadata": {},
   "outputs": [
    {
     "name": "stderr",
     "output_type": "stream",
     "text": [
      "C:\\Users\\eduar\\anaconda3\\lib\\site-packages\\pandas\\core\\indexing.py:671: SettingWithCopyWarning: \n",
      "A value is trying to be set on a copy of a slice from a DataFrame\n",
      "\n",
      "See the caveats in the documentation: https://pandas.pydata.org/pandas-docs/stable/user_guide/indexing.html#returning-a-view-versus-a-copy\n",
      "  self._setitem_with_indexer(indexer, value)\n"
     ]
    }
   ],
   "source": [
    "#Juntando os tweets dos diferentes sheets em um\n",
    "\n",
    "train_limpo = pd.read_excel(filename)\n",
    "train_limpo2 = train_limpo.rename(columns={'Treinamento': 'Tweets'})\n",
    "\n",
    "\n",
    "test_limpo = pd.read_excel(filename, sheet_name = 'Teste')\n",
    "test_limpo2 = test_limpo.rename(columns={'Teste': 'Tweets'})\n",
    "\n",
    "dfs = [train_limpo2,test_limpo2]\n",
    "\n",
    "#Concatenando os dataframes e criando um novo excell com todos os tweets em um único sheet\n",
    "dados = pd.concat(dfs)\n",
    "dados.to_excel('merge.xlsx', index=False)\n",
    "\n",
    "#Arquivo do novo excell\n",
    "filename2 = 'merge.xlsx'\n",
    "#Novo dataframe\n",
    "merge = pd.read_excel(filename2)\n",
    "\n",
    "#Limpando novo dataframe e retirando letra maiusculas\n",
    "for e in range(0,len(merge.copy())):\n",
    "    merge.Tweets.iloc[e] = cleanup(merge.Tweets.iloc[e].lower())\n"
   ]
  },
  {
   "cell_type": "code",
   "execution_count": 105,
   "metadata": {},
   "outputs": [
    {
     "name": "stderr",
     "output_type": "stream",
     "text": [
      "<ipython-input-105-88506e58f14d>:102: SettingWithCopyWarning: \n",
      "A value is trying to be set on a copy of a slice from a DataFrame.\n",
      "Try using .loc[row_indexer,col_indexer] = value instead\n",
      "\n",
      "See the caveats in the documentation: https://pandas.pydata.org/pandas-docs/stable/user_guide/indexing.html#returning-a-view-versus-a-copy\n",
      "  test_merge['ClassTweets'] = class_tweets\n"
     ]
    }
   ],
   "source": [
    "porcentagens_de_acerto = []\n",
    "\n",
    "for i in range(100):\n",
    "    \n",
    "    train_merge, test_merge = train_test_split(merge, test_size=0.4)\n",
    "    \n",
    "    \n",
    "    train_merge0 = train_merge.loc[(train_merge['Classificação'] == 0),:].copy()\n",
    "    train_merge1 = train_merge.loc[(train_merge['Classificação'] == 1),:].copy()\n",
    "    train_merge2 = train_merge.loc[(train_merge['Classificação'] == 2),:].copy()\n",
    "    train_merge3 = train_merge.loc[(train_merge['Classificação'] == 3),:].copy()\n",
    "    train_merge4 = train_merge.loc[(train_merge['Classificação'] == 4),:].copy()\n",
    "\n",
    "    palavras0 = []\n",
    "    palavras1 = []\n",
    "    palavras2 = []\n",
    "    palavras3 = []\n",
    "    palavras4 = []\n",
    "    todas_palavras = []\n",
    "\n",
    "    for e in range(0,len(train_merge0['Classificação'])):\n",
    "        \n",
    "        temporario = train_merge0.Tweets.iloc[e].split()\n",
    "\n",
    "        for t in temporario:\n",
    "            palavras0.append(t)\n",
    "            \n",
    "            \n",
    "    for e in range(0,len(train_merge1['Classificação'])):\n",
    "        \n",
    "        temporario = train_merge1.Tweets.iloc[e].split()\n",
    "\n",
    "        for t in temporario:\n",
    "            palavras1.append(t)\n",
    "\n",
    "    for e in range(0,len(train_merge2['Classificação'])):\n",
    "        \n",
    "        temporario = train_merge2.Tweets.iloc[e].split()\n",
    "\n",
    "        for t in temporario:\n",
    "            palavras2.append(t)\n",
    "        \n",
    "    for e in range(0,len(train_merge3['Classificação'])):\n",
    "        \n",
    "        temporario = train_merge3.Tweets.iloc[e].split()\n",
    "\n",
    "        for t in temporario:\n",
    "            palavras3.append(t)\n",
    "            \n",
    "    for e in range(0,len(train_merge4['Classificação'])):\n",
    "        \n",
    "        temporario = train_merge4.Tweets.iloc[e].split()\n",
    "\n",
    "        for t in temporario:\n",
    "            palavras4.append(t)\n",
    "            \n",
    "            \n",
    "    todas_palavras = palavras0 + palavras1 + palavras2 + palavras3 + palavras4\n",
    "    \n",
    "    \n",
    "    serie_palavras0 = pd.Series(palavras0)\n",
    "    \n",
    "    serie_palavras1 = pd.Series(palavras1)\n",
    "    \n",
    "    serie_palavras2 = pd.Series(palavras2)\n",
    "\n",
    "    serie_palavras3 = pd.Series(palavras3)\n",
    "\n",
    "    serie_palavras4 = pd.Series(palavras4)\n",
    "\n",
    "    serie_todas_palavras = pd.Series(todas_palavras)\n",
    "    \n",
    "\n",
    "    \n",
    "    tabela_palavras0_absoluta = serie_palavras0.value_counts()\n",
    "    \n",
    "    tabela_palavras1_absoluta = serie_palavras1.value_counts()\n",
    "    \n",
    "    tabela_palavras2_absoluta = serie_palavras2.value_counts()\n",
    "\n",
    "    tabela_palavras3_absoluta = serie_palavras3.value_counts()\n",
    "\n",
    "    tabela_palavras4_absoluta = serie_palavras4.value_counts()\n",
    "\n",
    "    tabela_todas_palavras_absoluta = serie_todas_palavras.value_counts()\n",
    "    \n",
    "\n",
    "    prob0 = len(palavras0) / len(todas_palavras)\n",
    "    prob1 = len(palavras1) / len(todas_palavras)\n",
    "    prob2 = len(palavras2) / len(todas_palavras)\n",
    "    prob3 = len(palavras3) / len(todas_palavras)\n",
    "    prob4 = len(palavras4) / len(todas_palavras)\n",
    "    \n",
    "    \n",
    "    \n",
    "\n",
    "    class_tweets = []\n",
    "    for a in test_merge['Tweets']:\n",
    "        class_tweets.append(classifica(a))\n",
    "       \n",
    "    \n",
    "    test_merge['ClassTweets'] = class_tweets\n",
    "\n",
    "    tab = pd.crosstab(test_merge['Classificação'],test_merge['ClassTweets'],normalize = True) * 100\n",
    "    \n",
    "    \n",
    "    \n",
    "    if len(set(list(test_merge['ClassTweets']))) == 4:\n",
    "        \n",
    "        porc_acertos = tab.iloc[1,0] + tab.iloc[2,1] + tab.iloc[3,2] + tab.iloc[4,3]\n",
    "        \n",
    "    else:\n",
    "        porc_acertos = tab.iloc[0,0] + tab.iloc[1,1] + tab.iloc[2,2] + tab.iloc[3,3] + tab.iloc[4,4]\n",
    "    \n",
    "    porcentagens_de_acerto.append(porc_acertos)"
   ]
  },
  {
   "cell_type": "code",
   "execution_count": 32,
   "metadata": {},
   "outputs": [
    {
     "name": "stderr",
     "output_type": "stream",
     "text": [
      "<ipython-input-32-d329abc51665>:88: SettingWithCopyWarning: \n",
      "A value is trying to be set on a copy of a slice from a DataFrame.\n",
      "Try using .loc[row_indexer,col_indexer] = value instead\n",
      "\n",
      "See the caveats in the documentation: https://pandas.pydata.org/pandas-docs/stable/user_guide/indexing.html#returning-a-view-versus-a-copy\n",
      "  test_merge['ClassTweets2'] = class_tweets2\n"
     ]
    }
   ],
   "source": [
    "porcentagens_de_acerto2 = []\n",
    "\n",
    "for i in range(100):\n",
    "    \n",
    "    train_merge, test_merge = train_test_split(merge, test_size=0.4)\n",
    "    \n",
    "    \n",
    "    train_merge0_1 = train_merge.loc[(train_merge['Classificação'] == 0) | (train_merge['Classificação'] == 1),:].copy()\n",
    "    train_merge2 = train_merge.loc[(train_merge['Classificação'] == 2),:].copy()\n",
    "    train_merge3 = train_merge.loc[(train_merge['Classificação'] == 3),:].copy()\n",
    "    train_merge4 = train_merge.loc[(train_merge['Classificação'] == 4),:].copy()\n",
    "\n",
    "    palavras0_1 = []\n",
    "    palavras2 = []\n",
    "    palavras3 = []\n",
    "    palavras4 = []\n",
    "    todas_palavras = []\n",
    "\n",
    "    for e in range(0,len(train_merge0_1['Classificação'])):\n",
    "        \n",
    "        temporario = train_merge0_1.Tweets.iloc[e].split()\n",
    "\n",
    "        for t in temporario:\n",
    "            palavras0_1.append(t)\n",
    "\n",
    "    for e in range(0,len(train_merge2['Classificação'])):\n",
    "        \n",
    "        temporario = train_merge2.Tweets.iloc[e].split()\n",
    "\n",
    "        for t in temporario:\n",
    "            palavras2.append(t)\n",
    "        \n",
    "    for e in range(0,len(train_merge3['Classificação'])):\n",
    "        \n",
    "        temporario = train_merge3.Tweets.iloc[e].split()\n",
    "\n",
    "        for t in temporario:\n",
    "            palavras3.append(t)\n",
    "            \n",
    "    for e in range(0,len(train_merge4['Classificação'])):\n",
    "        \n",
    "        temporario = train_merge4.Tweets.iloc[e].split()\n",
    "\n",
    "        for t in temporario:\n",
    "            palavras4.append(t)\n",
    "            \n",
    "            \n",
    "    todas_palavras = palavras0_1 + palavras2 + palavras3 + palavras4\n",
    "    \n",
    "    \n",
    "    serie_palavras0_1 = pd.Series(palavras0_1)\n",
    "    \n",
    "    serie_palavras2 = pd.Series(palavras2)\n",
    "\n",
    "    serie_palavras3 = pd.Series(palavras3)\n",
    "\n",
    "    serie_palavras4 = pd.Series(palavras4)\n",
    "\n",
    "    serie_todas_palavras = pd.Series(todas_palavras)\n",
    "    \n",
    "\n",
    "    \n",
    "    tabela_palavras0_1_absoluta = serie_palavras0_1.value_counts()\n",
    "    \n",
    "    tabela_palavras2_absoluta = serie_palavras2.value_counts()\n",
    "\n",
    "    tabela_palavras3_absoluta = serie_palavras3.value_counts()\n",
    "\n",
    "    tabela_palavras4_absoluta = serie_palavras4.value_counts()\n",
    "\n",
    "    tabela_todas_palavras_absoluta = serie_todas_palavras.value_counts()\n",
    "    \n",
    "\n",
    "    prob0_1 = len(palavras0_1) / len(todas_palavras)\n",
    "    prob2 = len(palavras2) / len(todas_palavras)\n",
    "    prob3 = len(palavras3) / len(todas_palavras)\n",
    "    prob4 = len(palavras4) / len(todas_palavras)\n",
    "    \n",
    "    \n",
    "    \n",
    "\n",
    "    class_tweets2 = []\n",
    "    for a in test_merge['Tweets']:\n",
    "        class_tweets2.append(classifica2(a))\n",
    "       \n",
    "    \n",
    "    test_merge['ClassTweets2'] = class_tweets2\n",
    "\n",
    "    tab = pd.crosstab(test_merge['Classificação'],test_merge['ClassTweets2'],normalize = True) *100\n",
    "    \n",
    "    porc_acertos2 = tab.iloc[0,0] + tab.iloc[1,0] + tab.iloc[2,1] + tab.iloc[3,2] + tab.iloc[4,3]\n",
    "    \n",
    "    porcentagens_de_acerto2.append(porc_acertos2)"
   ]
  },
  {
   "cell_type": "markdown",
   "metadata": {},
   "source": [
    "___\n",
    "### Gerando histograma comparativo entre as duas versões do classificador\n",
    "\n",
    "Para comparar melhor as duas versões, plotou-se o seguinte histograma:"
   ]
  },
  {
   "cell_type": "code",
   "execution_count": 131,
   "metadata": {},
   "outputs": [
    {
     "data": {
      "image/png": "[encoded data removed]",
      "text/plain": [
       "<Figure size 1080x720 with 1 Axes>"
      ]
     },
     "metadata": {
      "needs_background": "light"
     },
     "output_type": "display_data"
    }
   ],
   "source": [
    "figura = plt.figure(figsize = (15,10))\n",
    "\n",
    "\n",
    "plt.hist(porcentagens_de_acerto, edgecolor = 'white', density = True, alpha = 0.7,bins = 15, color = '#DC143C',label = 'Primeira Versão')\n",
    "plt.hist(porcentagens_de_acerto2, edgecolor = 'white', density = True, alpha = 0.7,bins = 15, color = '#6495ED',label = 'Segunda Versão')\n",
    "plt.legend(prop={'size': 15},loc='upper left')\n",
    "\n",
    "plt.title('Histograma - Acerto Classificador - %')\n",
    "plt.xlabel('Porcentagem de acerto')\n",
    "plt.ylabel('Densidade')\n",
    "plt.show()"
   ]
  },
  {
   "cell_type": "markdown",
   "metadata": {},
   "source": [
    "#### Tabela com medidas de dispersão\n",
    "\n",
    "Para analisar melhor, gerou a seguinte tabela com as medidas de dispersão:"
   ]
  },
  {
   "cell_type": "code",
   "execution_count": 112,
   "metadata": {},
   "outputs": [
    {
     "data": {
      "text/html": [
       "<div>\n",
       "<style scoped>\n",
       "    .dataframe tbody tr th:only-of-type {\n",
       "        vertical-align: middle;\n",
       "    }\n",
       "\n",
       "    .dataframe tbody tr th {\n",
       "        vertical-align: top;\n",
       "    }\n",
       "\n",
       "    .dataframe thead th {\n",
       "        text-align: right;\n",
       "    }\n",
       "</style>\n",
       "<table border=\"1\" class=\"dataframe\">\n",
       "  <thead>\n",
       "    <tr style=\"text-align: right;\">\n",
       "      <th></th>\n",
       "      <th>Classificador 1</th>\n",
       "      <th>Classificador 2</th>\n",
       "    </tr>\n",
       "  </thead>\n",
       "  <tbody>\n",
       "    <tr>\n",
       "      <th>count</th>\n",
       "      <td>100.00</td>\n",
       "      <td>100.00</td>\n",
       "    </tr>\n",
       "    <tr>\n",
       "      <th>mean</th>\n",
       "      <td>58.36</td>\n",
       "      <td>58.35</td>\n",
       "    </tr>\n",
       "    <tr>\n",
       "      <th>std</th>\n",
       "      <td>1.70</td>\n",
       "      <td>1.77</td>\n",
       "    </tr>\n",
       "    <tr>\n",
       "      <th>min</th>\n",
       "      <td>52.52</td>\n",
       "      <td>53.11</td>\n",
       "    </tr>\n",
       "    <tr>\n",
       "      <th>25%</th>\n",
       "      <td>57.38</td>\n",
       "      <td>57.29</td>\n",
       "    </tr>\n",
       "    <tr>\n",
       "      <th>50%</th>\n",
       "      <td>58.52</td>\n",
       "      <td>58.32</td>\n",
       "    </tr>\n",
       "    <tr>\n",
       "      <th>75%</th>\n",
       "      <td>59.44</td>\n",
       "      <td>59.83</td>\n",
       "    </tr>\n",
       "    <tr>\n",
       "      <th>max</th>\n",
       "      <td>61.77</td>\n",
       "      <td>61.85</td>\n",
       "    </tr>\n",
       "  </tbody>\n",
       "</table>\n",
       "</div>"
      ],
      "text/plain": [
       "       Classificador 1  Classificador 2\n",
       "count           100.00           100.00\n",
       "mean             58.36            58.35\n",
       "std               1.70             1.77\n",
       "min              52.52            53.11\n",
       "25%              57.38            57.29\n",
       "50%              58.52            58.32\n",
       "75%              59.44            59.83\n",
       "max              61.77            61.85"
      ]
     },
     "execution_count": 112,
     "metadata": {},
     "output_type": "execute_result"
    }
   ],
   "source": [
    "#Transformando a lista de acertos do classificador 1 em um DataFrame\n",
    "acertos_1 = pd.DataFrame(porcentagens_de_acerto)\n",
    "acertos_1 = acertos_1.rename(columns={0: 'Classificador 1'})\n",
    "\n",
    "#Transformando a lista de acertos do classificador 2 em um DataFrame\n",
    "acertos_2 = pd.DataFrame(porcentagens_de_acerto2)\n",
    "acertos_2 = acertos_2.rename(columns={0: 'Classificador 2'})\n",
    "\n",
    "\n",
    "acertos_df = pd.concat([acertos_1,acertos_2])\n",
    "acertos_df.describe().round(2)"
   ]
  },
  {
   "cell_type": "markdown",
   "metadata": {},
   "source": [
    "___\n",
    "### Conclusão - Comparando modelos e problemas"
   ]
  },
  {
   "cell_type": "raw",
   "metadata": {},
   "source": [
    "    Após plotar o histograma de cada versão do classificador e a tabela com as medidas de dispersão, pode-se tirar algumas conclusões relativas as duas versões. Primeiramente, a eficácia dos dois classificadores é muito semelhante, dificultando nomear um como melhor que o outro, as médias estão muito próximas assim como os quartis, contudo, a melhor porcentagem de acerto foi a do classificador 2, para definir qual o melhor, o ideal seria aumentar o número de simulações com diferentes bases de treinamento.\n",
    "    \n",
    "    Analisando nosso classificador, chegamos a possíveis problemas que estão atrapalhando o desempenho de nosso classificador:\n",
    "        1. Algumas palavras estavam com probabilidades muito altas, pesando a favor da classificação 2, como artigos e preposições, como : 'a','o','que','em','do','da', entre outras.\n",
    "        2. Como citado anteoriormente, na primeira conclusão, outro problema seria, o número desproporcional de tweets classificados como 2 no banco de dados, isso naturalmente aumenta a probabilidade de qualquer palavra pertença a essa classificação.\n",
    "        3. Ao investigarmos a planilha de banco de dados, percebeu-se que algumas classificações seguiam certo padrão, classificações como a 3 e 4, eram bem menores que outras e mais sucintas, já a 2, variava bastante, por se tratar de tweets neutros e irrelevantes para a análise, dessa forma, a classificação varia muito, desde tweets enormes e com assuntos dispersos como 'BBB', até frases rápidas e sem sentidos.\n",
    "        4. Além disso, outro aspecto é a frequencia absoluta das classificações 0 e 1, enquanto a 2 representa mais que 50% do banco de dados, essas duas juntas equivalem a apenas 10% aproximadamente, assim, o classificador tende a evitar classificar tweets com essas duas classificações.\n",
    "     \n",
    "    Quando tentamos solucionar alguns desses problemas, ainda sim o classificador continou com porcentagens de acertos próximas das obtidas inicialmente, pois quando melhoravamos os acertos das classificações diferentes de 2, o acerto desta diminuia e como essa classificação representa a maior parte do banco de dados, a porcentagem de acerto geral mantia-se igual ou até piorava em algumas situações, com isso, propusemos uma terceira versão do classificador, juntando as classificações 0 com 1 e com 2, e o 3 com 4 para tentar diminuir os erros."
   ]
  },
  {
   "cell_type": "markdown",
   "metadata": {},
   "source": [
    "___\n",
    "### Melhorando o Classificador Naive-Bayes - Terceira Versão\n",
    "\n",
    "Versão que junta as categorias 0 com 1 e 3 com 4."
   ]
  },
  {
   "cell_type": "code",
   "execution_count": 97,
   "metadata": {},
   "outputs": [
    {
     "name": "stderr",
     "output_type": "stream",
     "text": [
      "C:\\Users\\eduar\\anaconda3\\lib\\site-packages\\pandas\\core\\indexing.py:671: SettingWithCopyWarning: \n",
      "A value is trying to be set on a copy of a slice from a DataFrame\n",
      "\n",
      "See the caveats in the documentation: https://pandas.pydata.org/pandas-docs/stable/user_guide/indexing.html#returning-a-view-versus-a-copy\n",
      "  self._setitem_with_indexer(indexer, value)\n"
     ]
    }
   ],
   "source": [
    "#Novo dataframe de treino com tweets classificados como 0 ou 1 ou 2\n",
    "train0_1_2 = train.loc[(train['Classificação'] == 0) | (train['Classificação'] == 1 ) | (train['Classificação'] == 2 ),:].copy()\n",
    "\n",
    "#Novo dataframe de treino com tweets classificados como 0 ou 1 ou 2\n",
    "train3_4 = train.loc[(train['Classificação'] == 3) | (train['Classificação'] == 4 ),:].copy()\n",
    "\n",
    "\n",
    "#Lista de palavras pertencentes aos tweets classificados como 0 ou 1 ou 2\n",
    "palavras0_1_2 = []\n",
    "#Lista de palavras pertencentes aos tweets classificados como 3 ou 4\n",
    "palavras3_4 = []\n",
    "\n",
    "#Loops para usar a função cleanup em cada tweet do dataframe e adição das palavras na lista\n",
    "for e in range(0,len(train0_1_2['Treinamento'])):\n",
    "    train0_1_2.Treinamento.iloc[e] = cleanup(train0_1_2.Treinamento.iloc[e].lower())\n",
    "    temporario = train0_1_2.Treinamento.iloc[e].split()\n",
    "    \n",
    "    for i in temporario:\n",
    "        palavras0_1_2.append(i)\n",
    "        \n",
    "#Loops para usar a função cleanup em cada tweet do dataframe e adição das palavras na lista\n",
    "for e in range(0,len(train3_4['Treinamento'])):\n",
    "    train3_4.Treinamento.iloc[e] = cleanup(train3_4.Treinamento.iloc[e].lower())\n",
    "    temporario = train3_4.Treinamento.iloc[e].split()\n",
    "    \n",
    "    for i in temporario:\n",
    "        palavras3_4.append(i)\n",
    "        \n",
    "        \n",
    "#Serie da lista de palavras pertencentes a 0 ou 1 ou 2\n",
    "serie_palavras0_1_2 = pd.Series(palavras0_1_2)\n",
    "#Serie da lista de palavras pertencentes a 0 ou 1 ou 2\n",
    "serie_palavras3_4 = pd.Series(palavras3_4)\n",
    "\n",
    "#Tabela de frequencia absoluta da serie de palavras pertencentes a 0 ou 1 ou 2\n",
    "tabela_palavras0_1_2_absoluta = serie_palavras0_1_2.value_counts()\n",
    "#Tabela de frequencia absoluta da serie de palavras pertencentes a 0 ou 1 ou 2\n",
    "tabela_palavras3_4_absoluta = serie_palavras3_4.value_counts()\n",
    "\n",
    "#Probabilidades de uma palavra pertencer classificação 0 ou 1 ou 2\n",
    "prob0_1_2 = len(palavras0_1_2) / len(todas_palavras)\n",
    "#Probabilidades de uma palavra pertencer classificação 3 ou 4\n",
    "prob3_4 = len(palavras3_4) / len(todas_palavras)"
   ]
  },
  {
   "cell_type": "markdown",
   "metadata": {},
   "source": [
    "___\n",
    "### Verificando a performance da terceira versão\n",
    "\n",
    "Função \"classifica3\" representa a versão com apenas \"3\" classificações possíveis:"
   ]
  },
  {
   "cell_type": "code",
   "execution_count": 98,
   "metadata": {},
   "outputs": [],
   "source": [
    "def classifica3(tweet):\n",
    "    \n",
    "    #Probabilidades iniciais\n",
    "    probTweetDado0_1_2 = 1\n",
    "    probTweetDado3_4 = 1\n",
    "\n",
    "    \n",
    "    #Limpando o tweet com a função cleanup e separando-o em uma lista de palavras\n",
    "    tweet_limpo = cleanup(tweet).split()\n",
    "    \n",
    "    \n",
    "    #Para cada palavra(e) do tweet_limpo\n",
    "    for e in tweet_limpo:\n",
    "        \n",
    "        if e in tabela_palavras0_1_2_absoluta:\n",
    "            P_temporario0_1_2 = (tabela_palavras0_1_2_absoluta[e] + 1) / (tabela_palavras0_1_2_absoluta.sum() + len(tabela_todas_palavras_absoluta))\n",
    "        else:\n",
    "            P_temporario0_1_2 = 1 / (tabela_palavras0_1_2_absoluta.sum() + len(tabela_todas_palavras_absoluta))\n",
    "            \n",
    "        probTweetDado0_1_2 = probTweetDado0_1_2 * P_temporario0_1_2\n",
    "        \n",
    "        \n",
    "\n",
    "        if e in tabela_palavras3_4_absoluta:\n",
    "            P_temporario3_4 = (tabela_palavras3_4_absoluta[e] + 1) / (tabela_palavras3_4_absoluta.sum() + len(tabela_todas_palavras_absoluta))\n",
    "        else:\n",
    "            P_temporario3_4 = 1 / (tabela_palavras3_4_absoluta.sum() + len(tabela_todas_palavras_absoluta))\n",
    "        \n",
    "        probTweetDado3_4 = probTweetDado3_4 * P_temporario3_4\n",
    "        \n",
    "        \n",
    "        \n",
    "        \n",
    "    #Probabilidades finais do tweet\n",
    "    prob0_1_2DadoTweet = probTweetDado0_1_2 * prob0_1_2\n",
    "    prob3_4DadoTweet = probTweetDado3_4 * prob3_4\n",
    "\n",
    "    \n",
    "    #Lista com probabilidades\n",
    "    probs = [prob0_1_2DadoTweet,prob3_4DadoTweet]\n",
    "    \n",
    "    #Loop que verifica qual a maior probabilidade e retorna sua classificação de acordo com o índice na lista\n",
    "    p_max = 0\n",
    "    i_max = 0\n",
    "    for i,e in enumerate(probs):\n",
    "        if e >= p_max:\n",
    "            p_max = e\n",
    "            i_max = i\n",
    "    \n",
    "    return i_max + 1"
   ]
  },
  {
   "cell_type": "markdown",
   "metadata": {},
   "source": [
    "#### Classificando o dataframe teste"
   ]
  },
  {
   "cell_type": "code",
   "execution_count": 99,
   "metadata": {},
   "outputs": [],
   "source": [
    "#Criando lista com as classificações do tweet de teste\n",
    "class_tweets3 = []\n",
    "for a in tweets_teste:\n",
    "    class_tweets3.append(classifica3(a))"
   ]
  },
  {
   "cell_type": "code",
   "execution_count": 100,
   "metadata": {},
   "outputs": [
    {
     "data": {
      "text/html": [
       "<div>\n",
       "<style scoped>\n",
       "    .dataframe tbody tr th:only-of-type {\n",
       "        vertical-align: middle;\n",
       "    }\n",
       "\n",
       "    .dataframe tbody tr th {\n",
       "        vertical-align: top;\n",
       "    }\n",
       "\n",
       "    .dataframe thead th {\n",
       "        text-align: right;\n",
       "    }\n",
       "</style>\n",
       "<table border=\"1\" class=\"dataframe\">\n",
       "  <thead>\n",
       "    <tr style=\"text-align: right;\">\n",
       "      <th>ClassTweets3</th>\n",
       "      <th>1</th>\n",
       "      <th>2</th>\n",
       "    </tr>\n",
       "    <tr>\n",
       "      <th>Classificação</th>\n",
       "      <th></th>\n",
       "      <th></th>\n",
       "    </tr>\n",
       "  </thead>\n",
       "  <tbody>\n",
       "    <tr>\n",
       "      <th>0</th>\n",
       "      <td>2.2</td>\n",
       "      <td>0.0</td>\n",
       "    </tr>\n",
       "    <tr>\n",
       "      <th>1</th>\n",
       "      <td>3.2</td>\n",
       "      <td>2.8</td>\n",
       "    </tr>\n",
       "    <tr>\n",
       "      <th>2</th>\n",
       "      <td>49.2</td>\n",
       "      <td>12.4</td>\n",
       "    </tr>\n",
       "    <tr>\n",
       "      <th>3</th>\n",
       "      <td>12.6</td>\n",
       "      <td>9.6</td>\n",
       "    </tr>\n",
       "    <tr>\n",
       "      <th>4</th>\n",
       "      <td>3.4</td>\n",
       "      <td>4.6</td>\n",
       "    </tr>\n",
       "  </tbody>\n",
       "</table>\n",
       "</div>"
      ],
      "text/plain": [
       "ClassTweets3      1     2\n",
       "Classificação            \n",
       "0               2.2   0.0\n",
       "1               3.2   2.8\n",
       "2              49.2  12.4\n",
       "3              12.6   9.6\n",
       "4               3.4   4.6"
      ]
     },
     "execution_count": 100,
     "metadata": {},
     "output_type": "execute_result"
    }
   ],
   "source": [
    "#Tabela de análise entre a classificação manual e a feita pelo classificador\n",
    "test['ClassTweets3'] = class_tweets3\n",
    "\n",
    "tab = pd.crosstab(test['Classificação'],test['ClassTweets3'],normalize = True) *100\n",
    "\n",
    "tab"
   ]
  },
  {
   "cell_type": "code",
   "execution_count": 102,
   "metadata": {},
   "outputs": [
    {
     "name": "stdout",
     "output_type": "stream",
     "text": [
      "\n",
      "A porcentagem de acertos do classificador em sua segunda versão é: 68.80 %\n"
     ]
    }
   ],
   "source": [
    "porc_acertos3 = tab.iloc[0,0] + tab.iloc[1,0] + tab.iloc[2,0] + tab.iloc[3,1] + tab.iloc[4,1]\n",
    "\n",
    "print(\"\\nA porcentagem de acertos do classificador em sua segunda versão é:\",\"%.2f\" % porc_acertos3,'%')"
   ]
  },
  {
   "cell_type": "code",
   "execution_count": 108,
   "metadata": {},
   "outputs": [
    {
     "name": "stderr",
     "output_type": "stream",
     "text": [
      "<ipython-input-108-f028689e13df>:60: SettingWithCopyWarning: \n",
      "A value is trying to be set on a copy of a slice from a DataFrame.\n",
      "Try using .loc[row_indexer,col_indexer] = value instead\n",
      "\n",
      "See the caveats in the documentation: https://pandas.pydata.org/pandas-docs/stable/user_guide/indexing.html#returning-a-view-versus-a-copy\n",
      "  test_merge['ClassTweets3'] = class_tweets3\n"
     ]
    }
   ],
   "source": [
    "porcentagens_de_acerto3 = []\n",
    "\n",
    "for i in range(100):\n",
    "    \n",
    "    train_merge, test_merge = train_test_split(merge, test_size=0.4)\n",
    "    \n",
    "    \n",
    "    train_merge0_1_2 = train_merge.loc[(train_merge['Classificação'] == 0) | (train_merge['Classificação'] == 1)| (train_merge['Classificação'] == 2),:].copy()\n",
    "    train_merge3_4 = train_merge.loc[(train_merge['Classificação'] == 0) | (train_merge['Classificação'] == 1),:].copy()\n",
    "\n",
    "\n",
    "    palavras0_1_2 = []\n",
    "    palavras3_4 = []\n",
    "    todas_palavras = []\n",
    "\n",
    "    for e in range(0,len(train_merge0_1_2['Classificação'])):\n",
    "        \n",
    "        temporario = train_merge0_1_2.Tweets.iloc[e].split()\n",
    "\n",
    "        for t in temporario:\n",
    "            palavras0_1_2.append(t)\n",
    "\n",
    "    for e in range(0,len(train_merge3_4['Classificação'])):\n",
    "        \n",
    "        temporario = train_merge3_4.Tweets.iloc[e].split()\n",
    "\n",
    "        for t in temporario:\n",
    "            palavras3_4.append(t)\n",
    "        \n",
    "\n",
    "            \n",
    "            \n",
    "    todas_palavras = palavras0_1_2 + palavras3_4\n",
    "    \n",
    "    \n",
    "    serie_palavras0_1_2 = pd.Series(palavras0_1_2)\n",
    "    \n",
    "    serie_palavras3_4 = pd.Series(palavras3_4)\n",
    "\n",
    "    serie_todas_palavras = pd.Series(todas_palavras)\n",
    "    \n",
    "\n",
    "    \n",
    "    tabela_palavras0_1_2_absoluta = serie_palavras0_1_2.value_counts()\n",
    "    \n",
    "    tabela_palavras3_4_absoluta = serie_palavras3_4.value_counts()\n",
    "\n",
    "    prob0_1_2 = len(palavras0_1_2) / len(todas_palavras)\n",
    "    \n",
    "    prob3_4 = len(palavras3_4) / len(todas_palavras)\n",
    "    \n",
    "    \n",
    "    \n",
    "\n",
    "    class_tweets3 = []\n",
    "    for a in test_merge['Tweets']:\n",
    "        class_tweets3.append(classifica3(a))\n",
    "       \n",
    "    \n",
    "    test_merge['ClassTweets3'] = class_tweets3\n",
    "\n",
    "    tab = pd.crosstab(test_merge['Classificação'],test_merge['ClassTweets3'],normalize = True) *100\n",
    "    \n",
    "    porc_acertos3 = tab.iloc[0,0] + tab.iloc[1,0] + tab.iloc[2,0] + tab.iloc[3,1] + tab.iloc[4,1]\n",
    "    \n",
    "    porcentagens_de_acerto3.append(porc_acertos3)"
   ]
  },
  {
   "cell_type": "code",
   "execution_count": 134,
   "metadata": {},
   "outputs": [
    {
     "data": {
      "image/png": "[encoded data removed]",
      "text/plain": [
       "<Figure size 1080x720 with 1 Axes>"
      ]
     },
     "metadata": {
      "needs_background": "light"
     },
     "output_type": "display_data"
    }
   ],
   "source": [
    "figura3 = plt.figure(figsize = (15,10))\n",
    "\n",
    "plt.hist(porcentagens_de_acerto, edgecolor = 'white', density = True, alpha = 0.7,bins = 15, color = '#DC143C',label= 'Primeira Versão')\n",
    "plt.hist(porcentagens_de_acerto2, edgecolor = 'white', density = True, alpha = 0.7,bins = 15, color = '#6495ED',label= 'Segunda Versão')\n",
    "plt.hist(porcentagens_de_acerto3, edgecolor = 'white', density = True, alpha = 0.7,bins = 15, color = '#17A589',label= 'Terceira Versão')\n",
    "plt.legend(prop={'size': 15},loc='upper left')\n",
    "\n",
    "plt.title('Histograma - Acerto Classificador - %')\n",
    "plt.xlabel('Porcentagem de acerto')\n",
    "plt.ylabel('Densidade')\n",
    "plt.show()"
   ]
  },
  {
   "cell_type": "code",
   "execution_count": 111,
   "metadata": {},
   "outputs": [
    {
     "data": {
      "text/html": [
       "<div>\n",
       "<style scoped>\n",
       "    .dataframe tbody tr th:only-of-type {\n",
       "        vertical-align: middle;\n",
       "    }\n",
       "\n",
       "    .dataframe tbody tr th {\n",
       "        vertical-align: top;\n",
       "    }\n",
       "\n",
       "    .dataframe thead th {\n",
       "        text-align: right;\n",
       "    }\n",
       "</style>\n",
       "<table border=\"1\" class=\"dataframe\">\n",
       "  <thead>\n",
       "    <tr style=\"text-align: right;\">\n",
       "      <th></th>\n",
       "      <th>Classificador 1</th>\n",
       "      <th>Classificador 2</th>\n",
       "      <th>Classificador 3</th>\n",
       "    </tr>\n",
       "  </thead>\n",
       "  <tbody>\n",
       "    <tr>\n",
       "      <th>count</th>\n",
       "      <td>100.00</td>\n",
       "      <td>100.00</td>\n",
       "      <td>100.00</td>\n",
       "    </tr>\n",
       "    <tr>\n",
       "      <th>mean</th>\n",
       "      <td>58.36</td>\n",
       "      <td>58.35</td>\n",
       "      <td>67.86</td>\n",
       "    </tr>\n",
       "    <tr>\n",
       "      <th>std</th>\n",
       "      <td>1.70</td>\n",
       "      <td>1.77</td>\n",
       "      <td>1.86</td>\n",
       "    </tr>\n",
       "    <tr>\n",
       "      <th>min</th>\n",
       "      <td>52.52</td>\n",
       "      <td>53.11</td>\n",
       "      <td>63.05</td>\n",
       "    </tr>\n",
       "    <tr>\n",
       "      <th>25%</th>\n",
       "      <td>57.38</td>\n",
       "      <td>57.29</td>\n",
       "      <td>66.67</td>\n",
       "    </tr>\n",
       "    <tr>\n",
       "      <th>50%</th>\n",
       "      <td>58.52</td>\n",
       "      <td>58.32</td>\n",
       "      <td>67.87</td>\n",
       "    </tr>\n",
       "    <tr>\n",
       "      <th>75%</th>\n",
       "      <td>59.44</td>\n",
       "      <td>59.83</td>\n",
       "      <td>69.05</td>\n",
       "    </tr>\n",
       "    <tr>\n",
       "      <th>max</th>\n",
       "      <td>61.77</td>\n",
       "      <td>61.85</td>\n",
       "      <td>72.00</td>\n",
       "    </tr>\n",
       "  </tbody>\n",
       "</table>\n",
       "</div>"
      ],
      "text/plain": [
       "       Classificador 1  Classificador 2  Classificador 3\n",
       "count           100.00           100.00           100.00\n",
       "mean             58.36            58.35            67.86\n",
       "std               1.70             1.77             1.86\n",
       "min              52.52            53.11            63.05\n",
       "25%              57.38            57.29            66.67\n",
       "50%              58.52            58.32            67.87\n",
       "75%              59.44            59.83            69.05\n",
       "max              61.77            61.85            72.00"
      ]
     },
     "execution_count": 111,
     "metadata": {},
     "output_type": "execute_result"
    }
   ],
   "source": [
    "#Transformando a lista de acertos do classificador 1 em um DataFrame\n",
    "acertos_1 = pd.DataFrame(porcentagens_de_acerto)\n",
    "acertos_1 = acertos_1.rename(columns={0: 'Classificador 1'})\n",
    "\n",
    "#Transformando a lista de acertos do classificador 2 em um DataFrame\n",
    "acertos_2 = pd.DataFrame(porcentagens_de_acerto2)\n",
    "acertos_2 = acertos_2.rename(columns={0: 'Classificador 2'})\n",
    "\n",
    "#Transformando a lista de acertos do classificador 3 em um DataFrame\n",
    "acertos_3 = pd.DataFrame(porcentagens_de_acerto3)\n",
    "acertos_3 = acertos_3.rename(columns={0: 'Classificador 3'})\n",
    "\n",
    "\n",
    "acertos_df = pd.concat([acertos_1,acertos_2,acertos_3])\n",
    "acertos_df.describe().round(2)"
   ]
  },
  {
   "cell_type": "markdown",
   "metadata": {},
   "source": [
    "___\n",
    "## Aperfeiçoamento:\n",
    "\n",
    "Os trabalhos vão evoluir em conceito dependendo da quantidade de itens avançados:\n",
    "\n",
    "* Limpar: \\n, :, \", ', (, ), etc SEM remover emojis\n",
    "* Corrigir separação de espaços entre palavras e emojis ou entre emojis e emojis\n",
    "* Propor outras limpezas e transformações que não afetem a qualidade da informação ou classificação\n",
    "* Criar categorias intermediárias de relevância baseadas na probabilidade: ex.: muito relevante, relevante, neutro, irrelevante, muito irrelevante (3 categorias: C, mais categorias conta para B)\n",
    "* Explicar por que não posso usar o próprio classificador para gerar mais amostras de treinamento\n",
    "* Propor diferentes cenários para Naïve Bayes fora do contexto do projeto\n",
    "* Sugerir e explicar melhorias reais com indicações concretas de como implementar (indicar como fazer e indicar material de pesquisa)\n"
   ]
  },
  {
   "cell_type": "markdown",
   "metadata": {},
   "source": [
    "___\n",
    "## Referências"
   ]
  },
  {
   "cell_type": "markdown",
   "metadata": {},
   "source": [
    "[Naive Bayes and Text Classification](https://arxiv.org/pdf/1410.5329.pdf)  **Mais completo**\n",
    "\n",
    "[A practical explanation of a Naive Bayes Classifier](https://monkeylearn.com/blog/practical-explanation-naive-bayes-classifier/) **Mais simples**"
   ]
  },
  {
   "cell_type": "code",
   "execution_count": null,
   "metadata": {},
   "outputs": [],
   "source": []
  }
 ],
 "metadata": {
  "kernelspec": {
   "display_name": "Python 3",
   "language": "python",
   "name": "python3"
  },
  "language_info": {
   "codemirror_mode": {
    "name": "ipython",
    "version": 3
   },
   "file_extension": ".py",
   "mimetype": "text/x-python",
   "name": "python",
   "nbconvert_exporter": "python",
   "pygments_lexer": "ipython3",
   "version": "3.8.3"
  }
 },
 "nbformat": 4,
 "nbformat_minor": 4
}
