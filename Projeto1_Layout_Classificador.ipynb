{
 "cells": [
  {
   "cell_type": "markdown",
   "metadata": {},
   "source": [
    "# Projeto 1 - Ciência dos Dados"
   ]
  },
  {
   "cell_type": "markdown",
   "metadata": {},
   "source": [
    "Nome: Eduardo Araujo Rodrigues da Cunha\n",
    "\n",
    "Nome: Paulo Henrique Moreira Falcão\n",
    "\n",
    "Nome: Pedro Santos Rocha Von Dannecker"
   ]
  },
  {
   "cell_type": "markdown",
   "metadata": {},
   "source": [
    "Atenção: Serão permitidos grupos de três pessoas, mas com uma rubrica mais exigente. Grupos deste tamanho precisarão fazer um questionário de avaliação de trabalho em equipe"
   ]
  },
  {
   "cell_type": "markdown",
   "metadata": {},
   "source": [
    "___\n",
    "Carregando algumas bibliotecas:"
   ]
  },
  {
   "cell_type": "code",
   "execution_count": 137,
   "metadata": {},
   "outputs": [],
   "source": [
    "%matplotlib inline\n",
    "import pandas as pd\n",
    "import matplotlib.pyplot as plt\n",
    "import numpy as np\n",
    "import os\n",
    "import re\n",
    "import emoji\n",
    "import functools\n",
    "import operator"
   ]
  },
  {
   "cell_type": "code",
   "execution_count": 138,
   "metadata": {
    "scrolled": false
   },
   "outputs": [
    {
     "name": "stdout",
     "output_type": "stream",
     "text": [
      "Esperamos trabalhar no diretório\n",
      "C:\\Users\\eduar\\Insper\\Semestres\\2 Semestre\\CDADOS\\cdados_projeto1\n"
     ]
    }
   ],
   "source": [
    "print('Esperamos trabalhar no diretório')\n",
    "print(os.getcwd())"
   ]
  },
  {
   "cell_type": "markdown",
   "metadata": {},
   "source": [
    "Carregando a base de dados com os tweets classificados como relevantes e não relevantes:"
   ]
  },
  {
   "cell_type": "code",
   "execution_count": 139,
   "metadata": {},
   "outputs": [],
   "source": [
    "filename = 'WandaVision.xlsx'"
   ]
  },
  {
   "cell_type": "code",
   "execution_count": 140,
   "metadata": {},
   "outputs": [
    {
     "data": {
      "text/html": [
       "<div>\n",
       "<style scoped>\n",
       "    .dataframe tbody tr th:only-of-type {\n",
       "        vertical-align: middle;\n",
       "    }\n",
       "\n",
       "    .dataframe tbody tr th {\n",
       "        vertical-align: top;\n",
       "    }\n",
       "\n",
       "    .dataframe thead th {\n",
       "        text-align: right;\n",
       "    }\n",
       "</style>\n",
       "<table border=\"1\" class=\"dataframe\">\n",
       "  <thead>\n",
       "    <tr style=\"text-align: right;\">\n",
       "      <th></th>\n",
       "      <th>Treinamento</th>\n",
       "      <th>Classificação</th>\n",
       "    </tr>\n",
       "  </thead>\n",
       "  <tbody>\n",
       "    <tr>\n",
       "      <th>0</th>\n",
       "      <td>é isso completei a #maratonamarvel\\ntodo o mcu...</td>\n",
       "      <td>4.0</td>\n",
       "    </tr>\n",
       "    <tr>\n",
       "      <th>1</th>\n",
       "      <td>eu disse ia esperar terminar todos os ep de so...</td>\n",
       "      <td>4.0</td>\n",
       "    </tr>\n",
       "    <tr>\n",
       "      <th>2</th>\n",
       "      <td>rt @spiderxmaximoff: supera wandavision andres...</td>\n",
       "      <td>3.0</td>\n",
       "    </tr>\n",
       "    <tr>\n",
       "      <th>3</th>\n",
       "      <td>@theolieluk respeito tua opinião.\\n\\neu, parti...</td>\n",
       "      <td>3.0</td>\n",
       "    </tr>\n",
       "    <tr>\n",
       "      <th>4</th>\n",
       "      <td>me senti um nerd explicando pra marcela sobre ...</td>\n",
       "      <td>2.0</td>\n",
       "    </tr>\n",
       "  </tbody>\n",
       "</table>\n",
       "</div>"
      ],
      "text/plain": [
       "                                         Treinamento  Classificação\n",
       "0  é isso completei a #maratonamarvel\\ntodo o mcu...            4.0\n",
       "1  eu disse ia esperar terminar todos os ep de so...            4.0\n",
       "2  rt @spiderxmaximoff: supera wandavision andres...            3.0\n",
       "3  @theolieluk respeito tua opinião.\\n\\neu, parti...            3.0\n",
       "4  me senti um nerd explicando pra marcela sobre ...            2.0"
      ]
     },
     "execution_count": 140,
     "metadata": {},
     "output_type": "execute_result"
    }
   ],
   "source": [
    "train = pd.read_excel(filename)\n",
    "train.head(5)"
   ]
  },
  {
   "cell_type": "code",
   "execution_count": 141,
   "metadata": {},
   "outputs": [
    {
     "data": {
      "text/html": [
       "<div>\n",
       "<style scoped>\n",
       "    .dataframe tbody tr th:only-of-type {\n",
       "        vertical-align: middle;\n",
       "    }\n",
       "\n",
       "    .dataframe tbody tr th {\n",
       "        vertical-align: top;\n",
       "    }\n",
       "\n",
       "    .dataframe thead th {\n",
       "        text-align: right;\n",
       "    }\n",
       "</style>\n",
       "<table border=\"1\" class=\"dataframe\">\n",
       "  <thead>\n",
       "    <tr style=\"text-align: right;\">\n",
       "      <th></th>\n",
       "      <th>Teste</th>\n",
       "      <th>Classificação</th>\n",
       "    </tr>\n",
       "  </thead>\n",
       "  <tbody>\n",
       "    <tr>\n",
       "      <th>0</th>\n",
       "      <td>wandavision é ruim demais.</td>\n",
       "      <td>0</td>\n",
       "    </tr>\n",
       "    <tr>\n",
       "      <th>1</th>\n",
       "      <td>rt @nacaomarvell: matt shakman, diretor de #wa...</td>\n",
       "      <td>2</td>\n",
       "    </tr>\n",
       "    <tr>\n",
       "      <th>2</th>\n",
       "      <td>rt @vitolly_: isso aqui foi lendário \\n#wandav...</td>\n",
       "      <td>3</td>\n",
       "    </tr>\n",
       "    <tr>\n",
       "      <th>3</th>\n",
       "      <td>ia começar wandavision mas esqueci que vi 0 fi...</td>\n",
       "      <td>2</td>\n",
       "    </tr>\n",
       "    <tr>\n",
       "      <th>4</th>\n",
       "      <td>bom já que terminou a primeira temporada de wa...</td>\n",
       "      <td>2</td>\n",
       "    </tr>\n",
       "  </tbody>\n",
       "</table>\n",
       "</div>"
      ],
      "text/plain": [
       "                                               Teste  Classificação\n",
       "0                         wandavision é ruim demais.              0\n",
       "1  rt @nacaomarvell: matt shakman, diretor de #wa...              2\n",
       "2  rt @vitolly_: isso aqui foi lendário \\n#wandav...              3\n",
       "3  ia começar wandavision mas esqueci que vi 0 fi...              2\n",
       "4  bom já que terminou a primeira temporada de wa...              2"
      ]
     },
     "execution_count": 141,
     "metadata": {},
     "output_type": "execute_result"
    }
   ],
   "source": [
    "test = pd.read_excel(filename, sheet_name = 'Teste')\n",
    "test.head(5)"
   ]
  },
  {
   "cell_type": "markdown",
   "metadata": {},
   "source": [
    "___\n",
    "## Classificador automático de sentimento\n"
   ]
  },
  {
   "cell_type": "markdown",
   "metadata": {},
   "source": [
    "Faça aqui uma descrição do seu produto e o que considerou como relevante ou não relevante na classificação dos tweets.\n",
    "\n",
    "O produto escolhido foi a série da plataforma de streaming Disney+ WandaVision, as cinco categorias para a análise de tweets foram as seguintes:\n",
    "\n",
    "    0: Comentário muito negativo\n",
    "\n",
    "    1: Comentário negativo\n",
    "\n",
    "    2: Comentário neutro ou irrelavante\n",
    "\n",
    "    3: Comentário positivo\n",
    "\n",
    "    4: Comentário muito positivo\n"
   ]
  },
  {
   "cell_type": "markdown",
   "metadata": {},
   "source": [
    "___\n",
    "### Montando um Classificador Naive-Bayes\n",
    "\n",
    "Considerando apenas as mensagens da planilha Treinamento, ensine  seu classificador."
   ]
  },
  {
   "cell_type": "code",
   "execution_count": 142,
   "metadata": {},
   "outputs": [],
   "source": [
    "#Função de limpeza simples, fornecida em aula\n",
    "def cleanup(text):\n",
    "    \"\"\"\n",
    "        Função de limpeza muito simples que troca alguns sinais básicos por espaços\n",
    "    \"\"\"\n",
    "\n",
    "    #import string\n",
    "    punctuation = '[!-.:?;()\"]' # Note que os sinais [] são delimitadores de um conjunto.\n",
    "    pattern = re.compile(punctuation)\n",
    "    text1 = re.sub(pattern,'', text)\n",
    "    \n",
    "    \n",
    "    #Função para identificação de emojis extraída de: \n",
    "    #https://stackoverflow.com/questions/49921720/how-to-split-emoji-from-each-other-python\n",
    "    text_split_emoji = emoji.get_emoji_regexp().split(text1)\n",
    "    text_split_whitespace = [substr.split() for substr in text_split_emoji]\n",
    "    text = functools.reduce(operator.concat, text_split_whitespace)\n",
    "    \n",
    "    \n",
    "    return ' '.join(text)"
   ]
  },
  {
   "cell_type": "code",
   "execution_count": 143,
   "metadata": {},
   "outputs": [],
   "source": [
    "#Separando as categorias por classificação manual\n",
    "train_gp = train.groupby(['Classificação'])\n",
    "\n",
    "train0 = train_gp.get_group(0).copy()\n",
    "train1 = train_gp.get_group(1).copy()\n",
    "train2 = train_gp.get_group(2).copy()\n",
    "train3 = train_gp.get_group(3).copy()\n",
    "train4 = train_gp.get_group(4).copy()\n",
    "\n",
    "#Listas de palavras para cada\n",
    "palavras0 = []\n",
    "palavras1 = []\n",
    "palavras2 = []\n",
    "palavras3 = []\n",
    "palavras4 = []\n",
    "todas_palavras = []"
   ]
  },
  {
   "cell_type": "code",
   "execution_count": 144,
   "metadata": {},
   "outputs": [
    {
     "name": "stderr",
     "output_type": "stream",
     "text": [
      "C:\\Users\\eduar\\anaconda3\\lib\\site-packages\\pandas\\core\\indexing.py:671: SettingWithCopyWarning: \n",
      "A value is trying to be set on a copy of a slice from a DataFrame\n",
      "\n",
      "See the caveats in the documentation: https://pandas.pydata.org/pandas-docs/stable/user_guide/indexing.html#returning-a-view-versus-a-copy\n",
      "  self._setitem_with_indexer(indexer, value)\n"
     ]
    }
   ],
   "source": [
    "#Usando a função cleanup para cada dataframe e adiocionando palavras nas listas\n",
    "for e in range(0,len(train0['Treinamento'])):\n",
    "    train0.Treinamento.iloc[e] = cleanup(train0.Treinamento.iloc[e].lower())\n",
    "    temporario = train0.Treinamento.iloc[e].split()\n",
    "    \n",
    "    for i in temporario:\n",
    "        palavras0.append(i)\n",
    "\n",
    "    \n",
    "for e in range(0,len(train1['Treinamento'])):\n",
    "    train1.Treinamento.iloc[e] = cleanup(train1.Treinamento.iloc[e].lower())\n",
    "    \n",
    "    temporario = train1.Treinamento.iloc[e].split()\n",
    "    \n",
    "    for i in temporario:\n",
    "        palavras1.append(i)\n",
    "    \n",
    "    \n",
    "for e in range(0,len(train2['Treinamento'])):\n",
    "    train2.Treinamento.iloc[e] = cleanup(train2.Treinamento.iloc[e].lower())\n",
    "    \n",
    "    temporario = train2.Treinamento.iloc[e].split()\n",
    "    \n",
    "    for i in temporario:\n",
    "        palavras2.append(i)\n",
    "\n",
    "    \n",
    "for e in range(0,len(train3['Treinamento'])):\n",
    "    train3.Treinamento.iloc[e] = cleanup(train3.Treinamento.iloc[e].lower())\n",
    "    \n",
    "    temporario = train3.Treinamento.iloc[e].split()\n",
    "    \n",
    "    for i in temporario:\n",
    "        palavras3.append(i)\n",
    "    \n",
    "\n",
    "for e in range(0,len(train4['Treinamento'])):\n",
    "    train4.Treinamento.iloc[e] = cleanup(train4.Treinamento.iloc[e].lower())  \n",
    "    \n",
    "    temporario = train4.Treinamento.iloc[e].split()\n",
    "    \n",
    "    for i in temporario:\n",
    "        palavras4.append(i)\n",
    "\n",
    "todas_palavras = palavras0 + palavras1 + palavras2 + palavras3 + palavras4"
   ]
  },
  {
   "cell_type": "code",
   "execution_count": 145,
   "metadata": {},
   "outputs": [],
   "source": [
    "#Usando a função cleanup para Teste\n",
    "teste_clean = test.copy()\n",
    "\n",
    "for e in range(0,len(teste_clean['Teste'])):\n",
    "    teste_clean.Teste.iloc[e] = cleanup(teste_clean.Teste.iloc[e].lower())"
   ]
  },
  {
   "cell_type": "code",
   "execution_count": 146,
   "metadata": {},
   "outputs": [],
   "source": [
    "#Series das listas de palavras\n",
    "serie_palavras0 = pd.Series(palavras0)\n",
    "\n",
    "serie_palavras1 = pd.Series(palavras1)\n",
    "\n",
    "serie_palavras2 = pd.Series(palavras2)\n",
    "\n",
    "serie_palavras3 = pd.Series(palavras3)\n",
    "\n",
    "serie_palavras4 = pd.Series(palavras4)\n",
    "\n",
    "serie_todas_palavras = pd.Series(todas_palavras)\n"
   ]
  },
  {
   "cell_type": "code",
   "execution_count": 147,
   "metadata": {},
   "outputs": [],
   "source": [
    "#Tabelas absolutas das palavrasX\n",
    "tabela_palavras0_absoluta = serie_palavras0.value_counts()\n",
    "\n",
    "tabela_palavras1_absoluta = serie_palavras1.value_counts()\n",
    "\n",
    "tabela_palavras2_absoluta = serie_palavras2.value_counts()\n",
    "\n",
    "tabela_palavras3_absoluta = serie_palavras3.value_counts()\n",
    "\n",
    "tabela_palavras4_absoluta = serie_palavras4.value_counts()\n",
    "\n",
    "tabela_todas_palavras_absoluta = serie_todas_palavras.value_counts()"
   ]
  },
  {
   "cell_type": "code",
   "execution_count": 148,
   "metadata": {},
   "outputs": [],
   "source": [
    "#Probabilidades de uma palavra pertencer a uma classificação\n",
    "prob0 = len(palavras0) / len(todas_palavras)\n",
    "prob1 = len(palavras1) / len(todas_palavras)\n",
    "prob2 = len(palavras2) / len(todas_palavras)\n",
    "prob3 = len(palavras3) / len(todas_palavras)\n",
    "prob4 = len(palavras4) / len(todas_palavras)"
   ]
  },
  {
   "cell_type": "markdown",
   "metadata": {},
   "source": [
    "___\n",
    "### Verificando a performance do Classificador\n",
    "\n",
    "Agora você deve testar o seu classificador com a base de Testes."
   ]
  },
  {
   "cell_type": "code",
   "execution_count": 149,
   "metadata": {},
   "outputs": [],
   "source": [
    "#Função que classifica um tweet fornecido\n",
    "def classifica(tweet):\n",
    "    \n",
    "    probTweetDado0 = 1\n",
    "    probTweetDado1 = 1\n",
    "    probTweetDado2 = 1\n",
    "    probTweetDado3 = 1\n",
    "    probTweetDado4 = 1\n",
    "    probTweetDado5 = 1\n",
    "    \n",
    "    tweet_limpo = cleanup(tweet).split()\n",
    "    \n",
    "    \n",
    "    #Para cada palavra(e) do tweet_limpo\n",
    "    for e in tweet_limpo:\n",
    "        \n",
    "        if e in tabela_palavras0_absoluta:\n",
    "            P_temporario0 = (tabela_palavras0_absoluta[e] + 1) / (tabela_palavras0_absoluta.sum() + len(tabela_todas_palavras_absoluta))\n",
    "        else:\n",
    "            P_temporario0 = 1 / (tabela_palavras0_absoluta.sum() + len(tabela_todas_palavras_absoluta))\n",
    "            \n",
    "        probTweetDado0 = probTweetDado0 * P_temporario0\n",
    "        \n",
    "        \n",
    "\n",
    "        if e in tabela_palavras1_absoluta:\n",
    "            P_temporario1 = (tabela_palavras1_absoluta[e] + 1) / (tabela_palavras1_absoluta.sum() + len(tabela_todas_palavras_absoluta))\n",
    "        else:\n",
    "            P_temporario1 = 1 / (tabela_palavras1_absoluta.sum() + len(tabela_todas_palavras_absoluta))\n",
    "            \n",
    "        probTweetDado1 = probTweetDado1 * P_temporario1\n",
    "        \n",
    "        \n",
    "        \n",
    "        if e in tabela_palavras2_absoluta:\n",
    "            P_temporario2 = (tabela_palavras2_absoluta[e] + 1) / (tabela_palavras2_absoluta.sum() + len(tabela_todas_palavras_absoluta))\n",
    "        else:\n",
    "            P_temporario2 = 1 / (tabela_palavras2_absoluta.sum() + len(tabela_todas_palavras_absoluta))\n",
    "        \n",
    "        probTweetDado2 = probTweetDado2 * P_temporario2\n",
    "        \n",
    "        \n",
    "\n",
    "        if e in tabela_palavras3_absoluta:\n",
    "            P_temporario3 = (tabela_palavras3_absoluta[e] + 1) / (tabela_palavras3_absoluta.sum() + len(tabela_todas_palavras_absoluta))\n",
    "        else:\n",
    "            P_temporario3 = 1 / (tabela_palavras3_absoluta.sum() + len(tabela_todas_palavras_absoluta))\n",
    "        \n",
    "        probTweetDado3 = probTweetDado3 * P_temporario3\n",
    "        \n",
    "        \n",
    "        \n",
    "        if e in tabela_palavras4_absoluta:\n",
    "            P_temporario4 = (tabela_palavras4_absoluta[e] + 1) / (tabela_palavras4_absoluta.sum() + len(tabela_todas_palavras_absoluta))\n",
    "        else:\n",
    "            P_temporario4 = 1 / (tabela_palavras4_absoluta.sum() + len(tabela_todas_palavras_absoluta))\n",
    "        \n",
    "        probTweetDado4 = probTweetDado4 * P_temporario4\n",
    "        \n",
    "        \n",
    "        \n",
    "    prob0DadoTweet = probTweetDado0 * prob0\n",
    "    prob1DadoTweet = probTweetDado1 * prob1\n",
    "    prob2DadoTweet = probTweetDado2 * prob2\n",
    "    prob3DadoTweet = probTweetDado3 * prob3\n",
    "    prob4DadoTweet = probTweetDado4 * prob4\n",
    "    \n",
    "    probs = [prob0DadoTweet,prob1DadoTweet,prob2DadoTweet,prob3DadoTweet,prob4DadoTweet]\n",
    "    \n",
    "    p_max = 0\n",
    "    i_max = 0\n",
    "    for i,e in enumerate(probs):\n",
    "        if e >= p_max:\n",
    "            p_max = e\n",
    "            i_max = i\n",
    "        \n",
    "        \n",
    "    \n",
    "    return i_max"
   ]
  },
  {
   "cell_type": "code",
   "execution_count": 150,
   "metadata": {},
   "outputs": [],
   "source": [
    "#Criando lista com as classificações do tweet de teste\n",
    "\n",
    "tweets_teste = list(teste_clean.Teste)\n",
    "class_tweets = []\n",
    "for a in tweets_teste:\n",
    "    class_tweets.append(classifica(a))       "
   ]
  },
  {
   "cell_type": "code",
   "execution_count": 160,
   "metadata": {},
   "outputs": [
    {
     "data": {
      "text/html": [
       "<div>\n",
       "<style scoped>\n",
       "    .dataframe tbody tr th:only-of-type {\n",
       "        vertical-align: middle;\n",
       "    }\n",
       "\n",
       "    .dataframe tbody tr th {\n",
       "        vertical-align: top;\n",
       "    }\n",
       "\n",
       "    .dataframe thead th {\n",
       "        text-align: right;\n",
       "    }\n",
       "</style>\n",
       "<table border=\"1\" class=\"dataframe\">\n",
       "  <thead>\n",
       "    <tr style=\"text-align: right;\">\n",
       "      <th>ClassTweets</th>\n",
       "      <th>1</th>\n",
       "      <th>2</th>\n",
       "      <th>3</th>\n",
       "      <th>4</th>\n",
       "    </tr>\n",
       "    <tr>\n",
       "      <th>Classificação</th>\n",
       "      <th></th>\n",
       "      <th></th>\n",
       "      <th></th>\n",
       "      <th></th>\n",
       "    </tr>\n",
       "  </thead>\n",
       "  <tbody>\n",
       "    <tr>\n",
       "      <th>0</th>\n",
       "      <td>0.0</td>\n",
       "      <td>2.0</td>\n",
       "      <td>0.2</td>\n",
       "      <td>0.0</td>\n",
       "    </tr>\n",
       "    <tr>\n",
       "      <th>1</th>\n",
       "      <td>0.0</td>\n",
       "      <td>3.4</td>\n",
       "      <td>2.6</td>\n",
       "      <td>0.0</td>\n",
       "    </tr>\n",
       "    <tr>\n",
       "      <th>2</th>\n",
       "      <td>0.4</td>\n",
       "      <td>51.4</td>\n",
       "      <td>9.2</td>\n",
       "      <td>0.6</td>\n",
       "    </tr>\n",
       "    <tr>\n",
       "      <th>3</th>\n",
       "      <td>0.4</td>\n",
       "      <td>14.6</td>\n",
       "      <td>6.8</td>\n",
       "      <td>0.4</td>\n",
       "    </tr>\n",
       "    <tr>\n",
       "      <th>4</th>\n",
       "      <td>0.0</td>\n",
       "      <td>4.6</td>\n",
       "      <td>2.6</td>\n",
       "      <td>0.8</td>\n",
       "    </tr>\n",
       "  </tbody>\n",
       "</table>\n",
       "</div>"
      ],
      "text/plain": [
       "ClassTweets      1     2    3    4\n",
       "Classificação                     \n",
       "0              0.0   2.0  0.2  0.0\n",
       "1              0.0   3.4  2.6  0.0\n",
       "2              0.4  51.4  9.2  0.6\n",
       "3              0.4  14.6  6.8  0.4\n",
       "4              0.0   4.6  2.6  0.8"
      ]
     },
     "execution_count": 160,
     "metadata": {},
     "output_type": "execute_result"
    }
   ],
   "source": [
    "#Tabela de análise entre a classificação manual e a feita pelo classificador\n",
    "test['ClassTweets'] = class_tweets\n",
    "\n",
    "tab = pd.crosstab(test['Classificação'],test['ClassTweets'],normalize = True) *100\n",
    "\n",
    "tab"
   ]
  },
  {
   "cell_type": "code",
   "execution_count": 159,
   "metadata": {},
   "outputs": [
    {
     "name": "stdout",
     "output_type": "stream",
     "text": [
      "\n",
      "A porcentagem de acertos do classificador é: 59.00 %\n"
     ]
    }
   ],
   "source": [
    "porc_acertos = tab.iloc[1,0] + tab.iloc[2,1] + tab.iloc[3,2] + tab.iloc[4,3]\n",
    "\n",
    "print(\"\\nA porcentagem de acertos do classificador é:\",\"%.2f\" % porc_acertos,'%')"
   ]
  },
  {
   "cell_type": "markdown",
   "metadata": {},
   "source": [
    "___\n",
    "### Conclusão - Primeira Versão"
   ]
  },
  {
   "cell_type": "raw",
   "metadata": {},
   "source": [
    "    Na primeira versão do classificador, este teve um acerto de 59%, e analisando seus resultados, percebeu-se que os erros concentraram-se principalmente ao classificar as categorias 0 e 1, possívelmente devido a amostra de tweets coletado, que possui um número muito maior de tweets de classificação 2, 3 e 4 em relação a essas outras duas classes, dificultando os acertos do classificador Naive Bayes devido um número muito menor de palavras pertencentes a essas duas classes.\n",
    "    Outro fator que pode ter atrapalhado são as mensagens de dupla negação e de sarcasmo, pois o classificador relaciona para cada palavra uma certa porcetagem, assim, quando existe uma dupla negação ele não vai analisar essa dupla negação em si, mas sim, cada palavra do tweet, e de forma semelhante ele não consegue identificar sarcasmo nos tweets. Porém, vale ressaltar que entre os tweets escolhidos, foram pouquíssimos aqueles com presença de sarcarsmo, desta forma, o maior problema provavelmente foram as mensagens de dupla negação.\n",
    "    Uma alternativa que provavelmente irá melhorar o número de acertos do classificador, é juntar as categorias 0 e 1, já que são uma minoria."
   ]
  },
  {
   "cell_type": "markdown",
   "metadata": {},
   "source": [
    "___\n",
    "### Melhorando o Classificador Naive-Bayes - Segunda Versão\n"
   ]
  },
  {
   "cell_type": "code",
   "execution_count": 153,
   "metadata": {},
   "outputs": [
    {
     "name": "stderr",
     "output_type": "stream",
     "text": [
      "C:\\Users\\eduar\\anaconda3\\lib\\site-packages\\pandas\\core\\indexing.py:671: SettingWithCopyWarning: \n",
      "A value is trying to be set on a copy of a slice from a DataFrame\n",
      "\n",
      "See the caveats in the documentation: https://pandas.pydata.org/pandas-docs/stable/user_guide/indexing.html#returning-a-view-versus-a-copy\n",
      "  self._setitem_with_indexer(indexer, value)\n"
     ]
    }
   ],
   "source": [
    "train0_1 = train.loc[(train['Classificação'] == 0) | (train['Classificação'] == 1),:].copy()\n",
    "\n",
    "palavras0_1 = []\n",
    "\n",
    "for e in range(0,len(train0_1['Treinamento'])):\n",
    "    train0_1.Treinamento.iloc[e] = cleanup(train0_1.Treinamento.iloc[e].lower())\n",
    "    temporario = train0_1.Treinamento.iloc[e].split()\n",
    "    \n",
    "    for i in temporario:\n",
    "        palavras0_1.append(i)\n",
    "        \n",
    "        \n",
    "\n",
    "serie_palavras0_1 = pd.Series(palavras0_1)\n",
    "\n",
    "tabela_palavras0_1_absoluta = serie_palavras0_1.value_counts()\n",
    "\n",
    "prob0_1 = len(palavras0_1) / len(todas_palavras)"
   ]
  },
  {
   "cell_type": "code",
   "execution_count": 80,
   "metadata": {},
   "outputs": [],
   "source": [
    "def classifica2(tweet):\n",
    "    \n",
    "    probTweetDado0_1 = 1\n",
    "    probTweetDado2 = 1\n",
    "    probTweetDado3 = 1\n",
    "    probTweetDado4 = 1\n",
    "    probTweetDado5 = 1\n",
    "    \n",
    "    tweet_limpo = cleanup(tweet).split()\n",
    "    \n",
    "    \n",
    "    #Para cada palavra(e) do tweet_limpo\n",
    "    for e in tweet_limpo:\n",
    "        \n",
    "        if e in tabela_palavras0_1_absoluta:\n",
    "            P_temporario0_1 = (tabela_palavras0_1_absoluta[e] + 1) / (tabela_palavras0_1_absoluta.sum() + len(tabela_todas_palavras_absoluta))\n",
    "        else:\n",
    "            P_temporario0_1 = 1 / (tabela_palavras0_1_absoluta.sum() + len(tabela_todas_palavras_absoluta))\n",
    "            \n",
    "        probTweetDado0_1 = probTweetDado0_1 * P_temporario0_1\n",
    "        \n",
    "        \n",
    "        \n",
    "        if e in tabela_palavras2_absoluta:\n",
    "            P_temporario2 = (tabela_palavras2_absoluta[e] + 1) / (tabela_palavras2_absoluta.sum() + len(tabela_todas_palavras_absoluta))\n",
    "        else:\n",
    "            P_temporario2 = 1 / (tabela_palavras2_absoluta.sum() + len(tabela_todas_palavras_absoluta))\n",
    "        \n",
    "        probTweetDado2 = probTweetDado2 * P_temporario2\n",
    "        \n",
    "        \n",
    "\n",
    "        if e in tabela_palavras3_absoluta:\n",
    "            P_temporario3 = (tabela_palavras3_absoluta[e] + 1) / (tabela_palavras3_absoluta.sum() + len(tabela_todas_palavras_absoluta))\n",
    "        else:\n",
    "            P_temporario3 = 1 / (tabela_palavras3_absoluta.sum() + len(tabela_todas_palavras_absoluta))\n",
    "        \n",
    "        probTweetDado3 = probTweetDado3 * P_temporario3\n",
    "        \n",
    "        \n",
    "        \n",
    "        if e in tabela_palavras4_absoluta:\n",
    "            P_temporario4 = (tabela_palavras4_absoluta[e] + 1) / (tabela_palavras4_absoluta.sum() + len(tabela_todas_palavras_absoluta))\n",
    "        else:\n",
    "            P_temporario4 = 1 / (tabela_palavras4_absoluta.sum() + len(tabela_todas_palavras_absoluta))\n",
    "        \n",
    "        probTweetDado4 = probTweetDado4 * P_temporario4\n",
    "        \n",
    "        \n",
    "        \n",
    "    prob0_1DadoTweet = probTweetDado0_1 * prob0_1\n",
    "    prob2DadoTweet = probTweetDado2 * prob2\n",
    "    prob3DadoTweet = probTweetDado3 * prob3\n",
    "    prob4DadoTweet = probTweetDado4 * prob4\n",
    "    \n",
    "    probs = [prob0_1DadoTweet,prob2DadoTweet,prob3DadoTweet,prob4DadoTweet]\n",
    "    \n",
    "    p_max = 0\n",
    "    i_max = 0\n",
    "    \n",
    "    for i,e in enumerate(probs):\n",
    "        if e >= p_max:\n",
    "            p_max = e\n",
    "            i_max = i\n",
    "        \n",
    "        \n",
    "    \n",
    "    return i_max + 1"
   ]
  },
  {
   "cell_type": "code",
   "execution_count": 161,
   "metadata": {},
   "outputs": [
    {
     "data": {
      "text/html": [
       "<div>\n",
       "<style scoped>\n",
       "    .dataframe tbody tr th:only-of-type {\n",
       "        vertical-align: middle;\n",
       "    }\n",
       "\n",
       "    .dataframe tbody tr th {\n",
       "        vertical-align: top;\n",
       "    }\n",
       "\n",
       "    .dataframe thead th {\n",
       "        text-align: right;\n",
       "    }\n",
       "</style>\n",
       "<table border=\"1\" class=\"dataframe\">\n",
       "  <thead>\n",
       "    <tr style=\"text-align: right;\">\n",
       "      <th>ClassTweets2</th>\n",
       "      <th>1</th>\n",
       "      <th>2</th>\n",
       "      <th>3</th>\n",
       "      <th>4</th>\n",
       "    </tr>\n",
       "    <tr>\n",
       "      <th>Classificação</th>\n",
       "      <th></th>\n",
       "      <th></th>\n",
       "      <th></th>\n",
       "      <th></th>\n",
       "    </tr>\n",
       "  </thead>\n",
       "  <tbody>\n",
       "    <tr>\n",
       "      <th>0</th>\n",
       "      <td>0.0</td>\n",
       "      <td>2.0</td>\n",
       "      <td>0.2</td>\n",
       "      <td>0.0</td>\n",
       "    </tr>\n",
       "    <tr>\n",
       "      <th>1</th>\n",
       "      <td>0.0</td>\n",
       "      <td>3.4</td>\n",
       "      <td>2.6</td>\n",
       "      <td>0.0</td>\n",
       "    </tr>\n",
       "    <tr>\n",
       "      <th>2</th>\n",
       "      <td>1.4</td>\n",
       "      <td>50.8</td>\n",
       "      <td>8.8</td>\n",
       "      <td>0.6</td>\n",
       "    </tr>\n",
       "    <tr>\n",
       "      <th>3</th>\n",
       "      <td>0.6</td>\n",
       "      <td>14.6</td>\n",
       "      <td>6.8</td>\n",
       "      <td>0.2</td>\n",
       "    </tr>\n",
       "    <tr>\n",
       "      <th>4</th>\n",
       "      <td>0.0</td>\n",
       "      <td>4.6</td>\n",
       "      <td>2.6</td>\n",
       "      <td>0.8</td>\n",
       "    </tr>\n",
       "  </tbody>\n",
       "</table>\n",
       "</div>"
      ],
      "text/plain": [
       "ClassTweets2     1     2    3    4\n",
       "Classificação                     \n",
       "0              0.0   2.0  0.2  0.0\n",
       "1              0.0   3.4  2.6  0.0\n",
       "2              1.4  50.8  8.8  0.6\n",
       "3              0.6  14.6  6.8  0.2\n",
       "4              0.0   4.6  2.6  0.8"
      ]
     },
     "execution_count": 161,
     "metadata": {},
     "output_type": "execute_result"
    }
   ],
   "source": [
    "class_tweets2 = []\n",
    "for a in tweets_teste:\n",
    "    class_tweets2.append(classifica2(a))\n",
    "\n",
    "test['ClassTweets2'] = class_tweets2\n",
    "\n",
    "tab = pd.crosstab(test['Classificação'],test['ClassTweets2'],normalize = True) *100\n",
    "\n",
    "tab"
   ]
  },
  {
   "cell_type": "code",
   "execution_count": 165,
   "metadata": {},
   "outputs": [
    {
     "name": "stdout",
     "output_type": "stream",
     "text": [
      "\n",
      "A porcentagem de acertos do classificador é: 58.40 %\n"
     ]
    }
   ],
   "source": [
    "porc_acertos2 = tab.iloc[0,0] + tab.iloc[1,0] + tab.iloc[2,1] + tab.iloc[3,2] + tab.iloc[4,3]\n",
    "\n",
    "print(\"\\nA porcentagem de acertos do classificador é:\",\"%.2f\" % porc_acertos2,'%')"
   ]
  },
  {
   "cell_type": "markdown",
   "metadata": {},
   "source": [
    "___\n",
    "### Conclusão - Segunda Versão"
   ]
  },
  {
   "cell_type": "raw",
   "metadata": {},
   "source": [
    "    Na segunda versão, juntamos as classes 0 e 1, para tentar melhorar a porcentagem de acertos do classificador, contudo, a porcentagem de classificação piorou um pouco, 0.6%, ressaltando o problema citado anteriormente, de que o número de tweets classificados como 2 principalmente, está substancialmente maior que os tweets com outras classificações, atrapalhando bastante o classificador, dessa forma, uma nova alternativa seria melhorar a base de dados, aumentando o número de tweets com outras classificações."
   ]
  },
  {
   "cell_type": "markdown",
   "metadata": {},
   "source": [
    "___\n",
    "### Qualidade do Classificador a partir de novas separações dos tweets entre Treinamento e Teste\n",
    "\n",
    "Caso for fazer esse item do Projeto"
   ]
  },
  {
   "cell_type": "code",
   "execution_count": 135,
   "metadata": {},
   "outputs": [
    {
     "name": "stderr",
     "output_type": "stream",
     "text": [
      "C:\\Users\\eduar\\anaconda3\\lib\\site-packages\\pandas\\core\\indexing.py:671: SettingWithCopyWarning: \n",
      "A value is trying to be set on a copy of a slice from a DataFrame\n",
      "\n",
      "See the caveats in the documentation: https://pandas.pydata.org/pandas-docs/stable/user_guide/indexing.html#returning-a-view-versus-a-copy\n",
      "  self._setitem_with_indexer(indexer, value)\n"
     ]
    }
   ],
   "source": [
    "#Juntando os tweets dos diferentes sheets\n",
    "\n",
    "train_limpo = pd.read_excel(filename)\n",
    "train_limpo2 = train_limpo.rename(columns={'Treinamento': 'Tweets'})\n",
    "\n",
    "\n",
    "test_limpo = pd.read_excel(filename, sheet_name = 'Teste')\n",
    "test_limpo2 = test_limpo.rename(columns={'Teste': 'Tweets'})\n",
    "\n",
    "dfs = [train_limpo2,test_limpo2]\n",
    "\n",
    "dados = pd.concat(dfs)\n",
    "dados.to_excel('merge.xlsx', index=False)\n",
    "\n",
    "filename2 = 'merge.xlsx'\n",
    "\n",
    "merge = pd.read_excel(filename2)\n",
    "\n",
    "for e in range(0,len(merge.copy())):\n",
    "    merge.Tweets.iloc[e] = cleanup(merge.Tweets.iloc[e].lower())\n"
   ]
  },
  {
   "cell_type": "code",
   "execution_count": 172,
   "metadata": {},
   "outputs": [
    {
     "name": "stderr",
     "output_type": "stream",
     "text": [
      "<ipython-input-172-f7003fc1a7e0>:92: SettingWithCopyWarning: \n",
      "A value is trying to be set on a copy of a slice from a DataFrame.\n",
      "Try using .loc[row_indexer,col_indexer] = value instead\n",
      "\n",
      "See the caveats in the documentation: https://pandas.pydata.org/pandas-docs/stable/user_guide/indexing.html#returning-a-view-versus-a-copy\n",
      "  test_merge['ClassTweets2'] = class_tweets2\n"
     ]
    }
   ],
   "source": [
    "#Função retirada da seguinte publicação:\n",
    "#https://stackoverflow.com/questions/24147278/how-do-i-create-test-and-train-samples-from-one-dataframe-with-pandas\n",
    "from sklearn.model_selection import train_test_split\n",
    "\n",
    "porcentagens_de_acerto = []\n",
    "\n",
    "for i in range(100):\n",
    "    \n",
    "    train_merge, test_merge = train_test_split(merge, test_size=0.4)\n",
    "    \n",
    "    \n",
    "    train_merge0_1 = train_merge.loc[(train_merge['Classificação'] == 0) | (train_merge['Classificação'] == 1),:].copy()\n",
    "    train_merge2 = train_merge.loc[(train_merge['Classificação'] == 2),:].copy()\n",
    "    train_merge3 = train_merge.loc[(train_merge['Classificação'] == 3),:].copy()\n",
    "    train_merge4 = train_merge.loc[(train_merge['Classificação'] == 4),:].copy()\n",
    "\n",
    "    palavras0_1 = []\n",
    "    palavras1 = []\n",
    "    palavras2 = []\n",
    "    palavras3 = []\n",
    "    palavras4 = []\n",
    "    todas_palavras = []\n",
    "\n",
    "    for e in range(0,len(train_merge0_1['Classificação'])):\n",
    "        \n",
    "        temporario = train_merge0_1.Tweets.iloc[e].split()\n",
    "\n",
    "        for t in temporario:\n",
    "            palavras0_1.append(t)\n",
    "\n",
    "    for e in range(0,len(train_merge2['Classificação'])):\n",
    "        \n",
    "        temporario = train_merge2.Tweets.iloc[e].split()\n",
    "\n",
    "        for t in temporario:\n",
    "            palavras2.append(t)\n",
    "        \n",
    "    for e in range(0,len(train_merge3['Classificação'])):\n",
    "        \n",
    "        temporario = train_merge3.Tweets.iloc[e].split()\n",
    "\n",
    "        for t in temporario:\n",
    "            palavras3.append(t)\n",
    "            \n",
    "    for e in range(0,len(train_merge4['Classificação'])):\n",
    "        \n",
    "        temporario = train_merge4.Tweets.iloc[e].split()\n",
    "\n",
    "        for t in temporario:\n",
    "            palavras4.append(t)\n",
    "            \n",
    "            \n",
    "    todas_palavras = palavras0_1 + palavras2 + palavras3 + palavras4\n",
    "    \n",
    "    \n",
    "    serie_palavras0_1 = pd.Series(palavras0_1)\n",
    "    \n",
    "    serie_palavras2 = pd.Series(palavras2)\n",
    "\n",
    "    serie_palavras3 = pd.Series(palavras3)\n",
    "\n",
    "    serie_palavras4 = pd.Series(palavras4)\n",
    "\n",
    "    serie_todas_palavras = pd.Series(todas_palavras)\n",
    "    \n",
    "\n",
    "    \n",
    "    tabela_palavras0_1_absoluta = serie_palavras0_1.value_counts()\n",
    "    \n",
    "    tabela_palavras2_absoluta = serie_palavras2.value_counts()\n",
    "\n",
    "    tabela_palavras3_absoluta = serie_palavras3.value_counts()\n",
    "\n",
    "    tabela_palavras4_absoluta = serie_palavras4.value_counts()\n",
    "\n",
    "    tabela_todas_palavras_absoluta = serie_todas_palavras.value_counts()\n",
    "    \n",
    "\n",
    "    prob0_1 = len(palavras0_1) / len(todas_palavras)\n",
    "    prob2 = len(palavras2) / len(todas_palavras)\n",
    "    prob3 = len(palavras3) / len(todas_palavras)\n",
    "    prob4 = len(palavras4) / len(todas_palavras)\n",
    "    \n",
    "    \n",
    "    \n",
    "\n",
    "    class_tweets2 = []\n",
    "    for a in test_merge['Tweets']:\n",
    "        class_tweets2.append(classifica2(a))\n",
    "       \n",
    "    \n",
    "    test_merge['ClassTweets2'] = class_tweets2\n",
    "\n",
    "    tab = pd.crosstab(test_merge['Classificação'],test_merge['ClassTweets2'],normalize = True) *100\n",
    "    \n",
    "    porc_acertos2 = tab.iloc[0,0] + tab.iloc[1,0] + tab.iloc[2,1] + tab.iloc[3,2] + tab.iloc[4,3]\n",
    "    \n",
    "    porcentagens_de_acerto.append(porc_acertos2)"
   ]
  },
  {
   "cell_type": "code",
   "execution_count": 192,
   "metadata": {},
   "outputs": [
    {
     "data": {
      "image/png": "[encoded data removed]",
      "text/plain": [
       "<Figure size 1080x720 with 1 Axes>"
      ]
     },
     "metadata": {
      "needs_background": "light"
     },
     "output_type": "display_data"
    }
   ],
   "source": [
    "import matplotlib.pyplot as plt\n",
    "\n",
    "figura = plt.figure(figsize = (15,10))\n",
    "\n",
    "plt.hist(porcentagens_de_acerto, edgecolor = 'white', density = True, alpha = 0.8,bins = 15, color = '#DC143C')\n",
    "plt.title('Histograma - Acerto Classificador - %')\n",
    "plt.xlabel('Porcentagem de acerto')\n",
    "plt.ylabel('Densidade')\n",
    "plt.show()"
   ]
  },
  {
   "cell_type": "raw",
   "metadata": {},
   "source": []
  },
  {
   "cell_type": "code",
   "execution_count": null,
   "metadata": {},
   "outputs": [],
   "source": []
  },
  {
   "cell_type": "markdown",
   "metadata": {},
   "source": [
    "___\n",
    "## Aperfeiçoamento:\n",
    "\n",
    "Os trabalhos vão evoluir em conceito dependendo da quantidade de itens avançados:\n",
    "\n",
    "* Limpar: \\n, :, \", ', (, ), etc SEM remover emojis\n",
    "* Corrigir separação de espaços entre palavras e emojis ou entre emojis e emojis\n",
    "* Propor outras limpezas e transformações que não afetem a qualidade da informação ou classificação\n",
    "* Criar categorias intermediárias de relevância baseadas na probabilidade: ex.: muito relevante, relevante, neutro, irrelevante, muito irrelevante (3 categorias: C, mais categorias conta para B)\n",
    "* Explicar por que não posso usar o próprio classificador para gerar mais amostras de treinamento\n",
    "* Propor diferentes cenários para Naïve Bayes fora do contexto do projeto\n",
    "* Sugerir e explicar melhorias reais com indicações concretas de como implementar (indicar como fazer e indicar material de pesquisa)\n"
   ]
  },
  {
   "cell_type": "markdown",
   "metadata": {},
   "source": [
    "___\n",
    "## Referências"
   ]
  },
  {
   "cell_type": "markdown",
   "metadata": {},
   "source": [
    "[Naive Bayes and Text Classification](https://arxiv.org/pdf/1410.5329.pdf)  **Mais completo**\n",
    "\n",
    "[A practical explanation of a Naive Bayes Classifier](https://monkeylearn.com/blog/practical-explanation-naive-bayes-classifier/) **Mais simples**"
   ]
  },
  {
   "cell_type": "code",
   "execution_count": null,
   "metadata": {},
   "outputs": [],
   "source": []
  }
 ],
 "metadata": {
  "kernelspec": {
   "display_name": "Python 3",
   "language": "python",
   "name": "python3"
  },
  "language_info": {
   "codemirror_mode": {
    "name": "ipython",
    "version": 3
   },
   "file_extension": ".py",
   "mimetype": "text/x-python",
   "name": "python",
   "nbconvert_exporter": "python",
   "pygments_lexer": "ipython3",
   "version": "3.8.3"
  }
 },
 "nbformat": 4,
 "nbformat_minor": 4
}
