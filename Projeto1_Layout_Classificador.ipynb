{
 "cells": [
  {
   "cell_type": "markdown",
   "metadata": {},
   "source": [
    "# Projeto 1 - Ciência dos Dados"
   ]
  },
  {
   "cell_type": "markdown",
   "metadata": {},
   "source": [
    "Nome: Eduardo Araujo Rodrigues da Cunha\n",
    "\n",
    "Nome: Paulo Henrique Moreira Falcão\n",
    "\n",
    "Nome: Pedro Santos Rocha Von Dannecker"
   ]
  },
  {
   "cell_type": "markdown",
   "metadata": {},
   "source": [
    "Atenção: Serão permitidos grupos de três pessoas, mas com uma rubrica mais exigente. Grupos deste tamanho precisarão fazer um questionário de avaliação de trabalho em equipe"
   ]
  },
  {
   "cell_type": "markdown",
   "metadata": {},
   "source": [
    "___\n",
    "Carregando algumas bibliotecas:"
   ]
  },
  {
   "cell_type": "code",
   "execution_count": 160,
   "metadata": {},
   "outputs": [],
   "source": [
    "%matplotlib inline\n",
    "import pandas as pd\n",
    "import matplotlib.pyplot as plt\n",
    "import numpy as np\n",
    "import os\n",
    "import re"
   ]
  },
  {
   "cell_type": "code",
   "execution_count": 161,
   "metadata": {
    "scrolled": false
   },
   "outputs": [
    {
     "name": "stdout",
     "output_type": "stream",
     "text": [
      "Esperamos trabalhar no diretório\n",
      "C:\\Users\\eduar\\Insper\\Semestres\\2 Semestre\\CDADOS\\cdados_projeto1\n"
     ]
    }
   ],
   "source": [
    "print('Esperamos trabalhar no diretório')\n",
    "print(os.getcwd())"
   ]
  },
  {
   "cell_type": "markdown",
   "metadata": {},
   "source": [
    "Carregando a base de dados com os tweets classificados como relevantes e não relevantes:"
   ]
  },
  {
   "cell_type": "code",
   "execution_count": 162,
   "metadata": {},
   "outputs": [],
   "source": [
    "filename = 'WandaVision.xlsx'"
   ]
  },
  {
   "cell_type": "code",
   "execution_count": 163,
   "metadata": {},
   "outputs": [
    {
     "data": {
      "text/html": [
       "<div>\n",
       "<style scoped>\n",
       "    .dataframe tbody tr th:only-of-type {\n",
       "        vertical-align: middle;\n",
       "    }\n",
       "\n",
       "    .dataframe tbody tr th {\n",
       "        vertical-align: top;\n",
       "    }\n",
       "\n",
       "    .dataframe thead th {\n",
       "        text-align: right;\n",
       "    }\n",
       "</style>\n",
       "<table border=\"1\" class=\"dataframe\">\n",
       "  <thead>\n",
       "    <tr style=\"text-align: right;\">\n",
       "      <th></th>\n",
       "      <th>Treinamento</th>\n",
       "      <th>Classificação</th>\n",
       "    </tr>\n",
       "  </thead>\n",
       "  <tbody>\n",
       "    <tr>\n",
       "      <th>0</th>\n",
       "      <td>é isso completei a #maratonamarvel\\ntodo o mcu...</td>\n",
       "      <td>4.0</td>\n",
       "    </tr>\n",
       "    <tr>\n",
       "      <th>1</th>\n",
       "      <td>eu disse ia esperar terminar todos os ep de so...</td>\n",
       "      <td>4.0</td>\n",
       "    </tr>\n",
       "    <tr>\n",
       "      <th>2</th>\n",
       "      <td>rt @spiderxmaximoff: supera wandavision andres...</td>\n",
       "      <td>3.0</td>\n",
       "    </tr>\n",
       "    <tr>\n",
       "      <th>3</th>\n",
       "      <td>@theolieluk respeito tua opinião.\\n\\neu, parti...</td>\n",
       "      <td>3.0</td>\n",
       "    </tr>\n",
       "    <tr>\n",
       "      <th>4</th>\n",
       "      <td>me senti um nerd explicando pra marcela sobre ...</td>\n",
       "      <td>2.0</td>\n",
       "    </tr>\n",
       "  </tbody>\n",
       "</table>\n",
       "</div>"
      ],
      "text/plain": [
       "                                         Treinamento  Classificação\n",
       "0  é isso completei a #maratonamarvel\\ntodo o mcu...            4.0\n",
       "1  eu disse ia esperar terminar todos os ep de so...            4.0\n",
       "2  rt @spiderxmaximoff: supera wandavision andres...            3.0\n",
       "3  @theolieluk respeito tua opinião.\\n\\neu, parti...            3.0\n",
       "4  me senti um nerd explicando pra marcela sobre ...            2.0"
      ]
     },
     "execution_count": 163,
     "metadata": {},
     "output_type": "execute_result"
    }
   ],
   "source": [
    "train = pd.read_excel(filename)\n",
    "train.head(5)"
   ]
  },
  {
   "cell_type": "code",
   "execution_count": 192,
   "metadata": {},
   "outputs": [
    {
     "data": {
      "text/html": [
       "<div>\n",
       "<style scoped>\n",
       "    .dataframe tbody tr th:only-of-type {\n",
       "        vertical-align: middle;\n",
       "    }\n",
       "\n",
       "    .dataframe tbody tr th {\n",
       "        vertical-align: top;\n",
       "    }\n",
       "\n",
       "    .dataframe thead th {\n",
       "        text-align: right;\n",
       "    }\n",
       "</style>\n",
       "<table border=\"1\" class=\"dataframe\">\n",
       "  <thead>\n",
       "    <tr style=\"text-align: right;\">\n",
       "      <th></th>\n",
       "      <th>Teste</th>\n",
       "      <th>Classificação</th>\n",
       "    </tr>\n",
       "  </thead>\n",
       "  <tbody>\n",
       "    <tr>\n",
       "      <th>0</th>\n",
       "      <td>wandavision é ruim demais.</td>\n",
       "      <td>0</td>\n",
       "    </tr>\n",
       "    <tr>\n",
       "      <th>1</th>\n",
       "      <td>rt @nacaomarvell: matt shakman, diretor de #wa...</td>\n",
       "      <td>2</td>\n",
       "    </tr>\n",
       "    <tr>\n",
       "      <th>2</th>\n",
       "      <td>rt @vitolly_: isso aqui foi lendário \\n#wandav...</td>\n",
       "      <td>3</td>\n",
       "    </tr>\n",
       "    <tr>\n",
       "      <th>3</th>\n",
       "      <td>ia começar wandavision mas esqueci que vi 0 fi...</td>\n",
       "      <td>2</td>\n",
       "    </tr>\n",
       "    <tr>\n",
       "      <th>4</th>\n",
       "      <td>bom já que terminou a primeira temporada de wa...</td>\n",
       "      <td>2</td>\n",
       "    </tr>\n",
       "  </tbody>\n",
       "</table>\n",
       "</div>"
      ],
      "text/plain": [
       "                                               Teste  Classificação\n",
       "0                         wandavision é ruim demais.              0\n",
       "1  rt @nacaomarvell: matt shakman, diretor de #wa...              2\n",
       "2  rt @vitolly_: isso aqui foi lendário \\n#wandav...              3\n",
       "3  ia começar wandavision mas esqueci que vi 0 fi...              2\n",
       "4  bom já que terminou a primeira temporada de wa...              2"
      ]
     },
     "execution_count": 192,
     "metadata": {},
     "output_type": "execute_result"
    }
   ],
   "source": [
    "test = pd.read_excel(filename, sheet_name = 'Teste')\n",
    "test.head(5)"
   ]
  },
  {
   "cell_type": "code",
   "execution_count": 191,
   "metadata": {},
   "outputs": [
    {
     "data": {
      "text/plain": [
       "@jprocha_ e eu esperando att wandavision https://t.co/zyxs2bwxii                                                                                                                                                                                 1\n",
       "#fanart #marvel #wandavision \\na foto/                             /a edição https://t.co/v73rykecq7                                                                                                                                             1\n",
       "rt @crossovernerd: está no ar, o crossovercast #42 - wandavision\\nneste episódio do crossovercast, nossa equipe debate sobre wandavision. a…                                                                                                     1\n",
       "rt @lucasericlyn: e wandavision continua sendo a porta de entrada pra drogas mais pesadas https://t.co/xnsctpwhg9                                                                                                                                1\n",
       "@maarianasena amiga eu nunca vi nada da marvel pq acho os herois todos muito banana, mas assisti wandavision e entendi absolutamente tudo da historia dela, ta super bem explicado e nao tem homem desnecessario ganhando foco na historia 🙏🏼    1\n",
       "                                                                                                                                                                                                                                                ..\n",
       "tô no penúltimo ep de wandavision e já tô tristin pq já vai acabar                                                                                                                                                                               1\n",
       "rt @thevisionbr: será que vem aí uma indicação ao emmy para o paul na categoria “melhor ator em série limitada ou filme para televisão” (po…                                                                                                     1\n",
       "q vontade de assistir wandavision                                                                                                                                                                                                                1\n",
       "pocah colocar sarah como figurante é muito wandavision                                                                                                                                                                                           1\n",
       "@lucasranngel foi wandavision né amigo?!                                                                                                                                                                                                         1\n",
       "Name: Treinamento, Length: 750, dtype: int64"
      ]
     },
     "execution_count": 191,
     "metadata": {},
     "output_type": "execute_result"
    }
   ],
   "source": []
  },
  {
   "cell_type": "markdown",
   "metadata": {},
   "source": [
    "___\n",
    "## Classificador automático de sentimento\n"
   ]
  },
  {
   "cell_type": "markdown",
   "metadata": {},
   "source": [
    "Faça aqui uma descrição do seu produto e o que considerou como relevante ou não relevante na classificação dos tweets.\n",
    "\n",
    "O produto escolhido foi a série da plataforma de streaming Disney+ WandaVision, as cinco categorias para a análise de tweets foram as seguintes:\n",
    "\n",
    "    0: Comentário muito negativo\n",
    "\n",
    "    1: Comentário negativo\n",
    "\n",
    "    2: Comentário neutro ou irrelavante\n",
    "\n",
    "    3: Comentário positivo\n",
    "\n",
    "    4: Comentário muito positivo\n"
   ]
  },
  {
   "cell_type": "markdown",
   "metadata": {},
   "source": [
    "___\n",
    "### Montando um Classificador Naive-Bayes\n",
    "\n",
    "Considerando apenas as mensagens da planilha Treinamento, ensine  seu classificador."
   ]
  },
  {
   "cell_type": "code",
   "execution_count": 165,
   "metadata": {},
   "outputs": [],
   "source": [
    "#Função de limpeza simples, fornecida em aula\n",
    "def cleanup(text):\n",
    "    \"\"\"\n",
    "        Função de limpeza muito simples que troca alguns sinais básicos por espaços\n",
    "    \"\"\"\n",
    "    #import string\n",
    "    punctuation = '[!-.:?;]' # Note que os sinais [] são delimitadores de um conjunto.\n",
    "    pattern = re.compile(punctuation)\n",
    "    text_subbed = re.sub(pattern, '', text)\n",
    "    \n",
    "    return text_subbed"
   ]
  },
  {
   "cell_type": "code",
   "execution_count": 166,
   "metadata": {},
   "outputs": [
    {
     "name": "stderr",
     "output_type": "stream",
     "text": [
      "C:\\Users\\eduar\\anaconda3\\lib\\site-packages\\pandas\\core\\indexing.py:671: SettingWithCopyWarning: \n",
      "A value is trying to be set on a copy of a slice from a DataFrame\n",
      "\n",
      "See the caveats in the documentation: https://pandas.pydata.org/pandas-docs/stable/user_guide/indexing.html#returning-a-view-versus-a-copy\n",
      "  self._setitem_with_indexer(indexer, value)\n"
     ]
    }
   ],
   "source": [
    "train_gp = train.groupby(['Classificação'])\n",
    "\n",
    "train0 = train_gp.get_group(0).copy()\n",
    "train1 = train_gp.get_group(1).copy()\n",
    "train2 = train_gp.get_group(2).copy()\n",
    "train3 = train_gp.get_group(3).copy()\n",
    "train4 = train_gp.get_group(4).copy()\n",
    "\n",
    "palavras0 = []\n",
    "palavras1 = []\n",
    "palavras2 = []\n",
    "palavras3 = []\n",
    "palavras4 = []\n",
    "todas_palavras = []\n",
    "\n",
    "for e in range(0,len(train0['Treinamento'])):\n",
    "    train0.Treinamento.iloc[e] = cleanup(train0.Treinamento.iloc[e].lower())\n",
    "    temporario = train0.Treinamento.iloc[e].split()\n",
    "    \n",
    "    for i in temporario:\n",
    "        palavras0.append(i)\n",
    "\n",
    "    \n",
    "for e in range(0,len(train1['Treinamento'])):\n",
    "    train1.Treinamento.iloc[e] = cleanup(train1.Treinamento.iloc[e].lower())\n",
    "    \n",
    "    temporario = train1.Treinamento.iloc[e].split()\n",
    "    \n",
    "    for i in temporario:\n",
    "        palavras1.append(i)\n",
    "    \n",
    "    \n",
    "for e in range(0,len(train2['Treinamento'])):\n",
    "    train2.Treinamento.iloc[e] = cleanup(train2.Treinamento.iloc[e].lower())\n",
    "    \n",
    "    temporario = train2.Treinamento.iloc[e].split()\n",
    "    \n",
    "    for i in temporario:\n",
    "        palavras2.append(i)\n",
    "\n",
    "    \n",
    "for e in range(0,len(train3['Treinamento'])):\n",
    "    train3.Treinamento.iloc[e] = cleanup(train3.Treinamento.iloc[e].lower())\n",
    "    \n",
    "    temporario = train3.Treinamento.iloc[e].split()\n",
    "    \n",
    "    for i in temporario:\n",
    "        palavras3.append(i)\n",
    "    \n",
    "\n",
    "for e in range(0,len(train4['Treinamento'])):\n",
    "    train4.Treinamento.iloc[e] = cleanup(train4.Treinamento.iloc[e].lower())  \n",
    "    \n",
    "    temporario = train4.Treinamento.iloc[e].split()\n",
    "    \n",
    "    for i in temporario:\n",
    "        palavras4.append(i)\n",
    "\n",
    "todas_palavras = palavras0 + palavras1 + palavras2 + palavras3 + palavras4"
   ]
  },
  {
   "cell_type": "code",
   "execution_count": 169,
   "metadata": {},
   "outputs": [
    {
     "name": "stderr",
     "output_type": "stream",
     "text": [
      "C:\\Users\\eduar\\anaconda3\\lib\\site-packages\\pandas\\core\\indexing.py:671: SettingWithCopyWarning: \n",
      "A value is trying to be set on a copy of a slice from a DataFrame\n",
      "\n",
      "See the caveats in the documentation: https://pandas.pydata.org/pandas-docs/stable/user_guide/indexing.html#returning-a-view-versus-a-copy\n",
      "  self._setitem_with_indexer(indexer, value)\n"
     ]
    }
   ],
   "source": [
    "teste_clean = test.copy()\n",
    "\n",
    "for e in range(0,len(teste_clean['Teste'])):\n",
    "    teste_clean.Teste.iloc[e] = cleanup(teste_clean.Teste.iloc[e].lower())"
   ]
  },
  {
   "cell_type": "code",
   "execution_count": 170,
   "metadata": {},
   "outputs": [],
   "source": [
    "#Series das palavrasX\n",
    "serie_palavras0 = pd.Series(palavras0)\n",
    "\n",
    "serie_palavras1 = pd.Series(palavras1)\n",
    "\n",
    "serie_palavras2 = pd.Series(palavras2)\n",
    "\n",
    "serie_palavras3 = pd.Series(palavras3)\n",
    "\n",
    "serie_palavras4 = pd.Series(palavras4)\n",
    "\n",
    "serie_todas_palavras = pd.Series(todas_palavras)\n"
   ]
  },
  {
   "cell_type": "code",
   "execution_count": 171,
   "metadata": {},
   "outputs": [
    {
     "data": {
      "text/plain": [
       "wandavision    719\n",
       "de             462\n",
       "o              319\n",
       "e              308\n",
       "que            299\n",
       "              ... \n",
       "quebra           1\n",
       "odiamos          1\n",
       "@hugogloss       1\n",
       "@posstions       1\n",
       "bora             1\n",
       "Length: 3499, dtype: int64"
      ]
     },
     "execution_count": 171,
     "metadata": {},
     "output_type": "execute_result"
    }
   ],
   "source": [
    "#Tabelas relativas das palavrasX\n",
    "tabela_palavras0_absoluta = serie_palavras0.value_counts()\n",
    "\n",
    "tabela_palavras1_absoluta = serie_palavras1.value_counts()\n",
    "\n",
    "tabela_palavras2_absoluta = serie_palavras2.value_counts()\n",
    "\n",
    "tabela_palavras3_absoluta = serie_palavras3.value_counts()\n",
    "\n",
    "tabela_palavras4_absoluta = serie_palavras4.value_counts()\n",
    "\n",
    "tabela_todas_palavras_absoluta = serie_todas_palavras.value_counts()\n",
    "\n",
    "tabela_todas_palavras_absoluta"
   ]
  },
  {
   "cell_type": "code",
   "execution_count": 197,
   "metadata": {},
   "outputs": [
    {
     "name": "stdout",
     "output_type": "stream",
     "text": [
      "0.017163435752049653 0.6296835491533216\n"
     ]
    }
   ],
   "source": [
    "prob0 = len(palavras0) / len(todas_palavras)\n",
    "prob1 = len(palavras1) / len(todas_palavras)\n",
    "prob2 = len(palavras2) / len(todas_palavras)\n",
    "prob3 = len(palavras3) / len(todas_palavras)\n",
    "prob4 = len(palavras4) / len(todas_palavras)\n",
    "\n",
    "print(prob0,prob2)"
   ]
  },
  {
   "cell_type": "markdown",
   "metadata": {},
   "source": [
    "___\n",
    "### Verificando a performance do Classificador\n",
    "\n",
    "Agora você deve testar o seu classificador com a base de Testes."
   ]
  },
  {
   "cell_type": "code",
   "execution_count": 180,
   "metadata": {},
   "outputs": [],
   "source": [
    "probTweetDado0 = 1\n",
    "probTweetDado1 = 1\n",
    "probTweetDado2 = 1\n",
    "probTweetDado3 = 1\n",
    "probTweetDado4 = 1\n",
    "probTweetDado5 = 1\n",
    "\n",
    "\n",
    "def classifica(tweet):\n",
    "    \n",
    "    probTweetDado0 = 1\n",
    "    probTweetDado1 = 1\n",
    "    probTweetDado2 = 1\n",
    "    probTweetDado3 = 1\n",
    "    probTweetDado4 = 1\n",
    "    probTweetDado5 = 1\n",
    "\n",
    "    for e in tweet.split():\n",
    "        \n",
    "        if e in tabela_palavras0_absoluta:\n",
    "            P_temporario0 = (tabela_palavras0_absoluta[e] + 1) / (tabela_palavras0_absoluta.sum() + len(tabela_todas_palavras_absoluta))\n",
    "        else:\n",
    "            P_temporario0 = 1 / (tabela_palavras0_absoluta.sum() + len(tabela_todas_palavras_absoluta))\n",
    "            \n",
    "        probTweetDado0 = probTweetDado0 * P_temporario0\n",
    "        \n",
    "        \n",
    "\n",
    "        if e in tabela_palavras1_absoluta:\n",
    "            P_temporario1 = (tabela_palavras1_absoluta[e] + 1) / (tabela_palavras1_absoluta.sum() + len(tabela_todas_palavras_absoluta))\n",
    "        else:\n",
    "            P_temporario1 = 1 / (tabela_palavras1_absoluta.sum() + len(tabela_todas_palavras_absoluta))\n",
    "            \n",
    "        probTweetDado1 = probTweetDado1 * P_temporario1\n",
    "        \n",
    "        \n",
    "        \n",
    "        if e in tabela_palavras2_absoluta:\n",
    "            P_temporario2 = (tabela_palavras2_absoluta[e] + 1) / (tabela_palavras2_absoluta.sum() + len(tabela_todas_palavras_absoluta))\n",
    "        else:\n",
    "            P_temporario2 = 1 / (tabela_palavras2_absoluta.sum() + len(tabela_todas_palavras_absoluta))\n",
    "        \n",
    "        probTweetDado2 = probTweetDado2 * P_temporario2\n",
    "        \n",
    "        \n",
    "\n",
    "        if e in tabela_palavras3_absoluta:\n",
    "            P_temporario3 = (tabela_palavras3_absoluta[e] + 1) / (tabela_palavras3_absoluta.sum() + len(tabela_todas_palavras_absoluta))\n",
    "        else:\n",
    "            P_temporario3 = 1 / (tabela_palavras3_absoluta.sum() + len(tabela_todas_palavras_absoluta))\n",
    "        \n",
    "        probTweetDado3 = probTweetDado3 * P_temporario3\n",
    "        \n",
    "        \n",
    "        \n",
    "        if e in tabela_palavras4_absoluta:\n",
    "            P_temporario4 = (tabela_palavras4_absoluta[e] + 1) / (tabela_palavras4_absoluta.sum() + len(tabela_todas_palavras_absoluta))\n",
    "        else:\n",
    "            P_temporario4 = 1 / (tabela_palavras4_absoluta.sum() + len(tabela_todas_palavras_absoluta))\n",
    "        \n",
    "        probTweetDado4 = probTweetDado4 * P_temporario4\n",
    "        \n",
    "        \n",
    "        \n",
    "    prob0DadoTweet = probTweetDado0 * prob0\n",
    "    prob1DadoTweet = probTweetDado1 * prob1\n",
    "    prob2DadoTweet = probTweetDado2 * prob2\n",
    "    prob3DadoTweet = probTweetDado3 * prob3\n",
    "    prob4DadoTweet = probTweetDado4 * prob4\n",
    "    \n",
    "    probs = [prob0DadoTweet,prob1DadoTweet,prob2DadoTweet,prob3DadoTweet,prob4DadoTweet]\n",
    "    \n",
    "    p_max = 0\n",
    "    i_max = 0\n",
    "    for i,e in enumerate(probs):\n",
    "        if e >= p_max:\n",
    "            p_max = e\n",
    "            i_max = i\n",
    "        \n",
    "        \n",
    "    \n",
    "    return i_max\n",
    "    \n",
    "    \n",
    "\n"
   ]
  },
  {
   "cell_type": "code",
   "execution_count": 189,
   "metadata": {},
   "outputs": [],
   "source": [
    "tweets_teste = list(teste_clean.Teste)\n",
    "\n",
    "class_tweets = []\n",
    "for a in tweets_teste:\n",
    "    class_tweets.append(classifica(a))       "
   ]
  },
  {
   "cell_type": "code",
   "execution_count": 187,
   "metadata": {},
   "outputs": [
    {
     "data": {
      "text/html": [
       "<div>\n",
       "<style scoped>\n",
       "    .dataframe tbody tr th:only-of-type {\n",
       "        vertical-align: middle;\n",
       "    }\n",
       "\n",
       "    .dataframe tbody tr th {\n",
       "        vertical-align: top;\n",
       "    }\n",
       "\n",
       "    .dataframe thead th {\n",
       "        text-align: right;\n",
       "    }\n",
       "</style>\n",
       "<table border=\"1\" class=\"dataframe\">\n",
       "  <thead>\n",
       "    <tr style=\"text-align: right;\">\n",
       "      <th>ClassTweets</th>\n",
       "      <th>1</th>\n",
       "      <th>2</th>\n",
       "      <th>3</th>\n",
       "      <th>4</th>\n",
       "    </tr>\n",
       "    <tr>\n",
       "      <th>Classificação</th>\n",
       "      <th></th>\n",
       "      <th></th>\n",
       "      <th></th>\n",
       "      <th></th>\n",
       "    </tr>\n",
       "  </thead>\n",
       "  <tbody>\n",
       "    <tr>\n",
       "      <th>0</th>\n",
       "      <td>0.000</td>\n",
       "      <td>0.020</td>\n",
       "      <td>0.002</td>\n",
       "      <td>0.000</td>\n",
       "    </tr>\n",
       "    <tr>\n",
       "      <th>1</th>\n",
       "      <td>0.000</td>\n",
       "      <td>0.034</td>\n",
       "      <td>0.026</td>\n",
       "      <td>0.000</td>\n",
       "    </tr>\n",
       "    <tr>\n",
       "      <th>2</th>\n",
       "      <td>0.004</td>\n",
       "      <td>0.518</td>\n",
       "      <td>0.088</td>\n",
       "      <td>0.006</td>\n",
       "    </tr>\n",
       "    <tr>\n",
       "      <th>3</th>\n",
       "      <td>0.002</td>\n",
       "      <td>0.154</td>\n",
       "      <td>0.060</td>\n",
       "      <td>0.006</td>\n",
       "    </tr>\n",
       "    <tr>\n",
       "      <th>4</th>\n",
       "      <td>0.000</td>\n",
       "      <td>0.044</td>\n",
       "      <td>0.028</td>\n",
       "      <td>0.008</td>\n",
       "    </tr>\n",
       "  </tbody>\n",
       "</table>\n",
       "</div>"
      ],
      "text/plain": [
       "ClassTweets        1      2      3      4\n",
       "Classificação                            \n",
       "0              0.000  0.020  0.002  0.000\n",
       "1              0.000  0.034  0.026  0.000\n",
       "2              0.004  0.518  0.088  0.006\n",
       "3              0.002  0.154  0.060  0.006\n",
       "4              0.000  0.044  0.028  0.008"
      ]
     },
     "execution_count": 187,
     "metadata": {},
     "output_type": "execute_result"
    }
   ],
   "source": [
    "test['ClassTweets'] = class_tweets\n",
    "\n",
    "tab = pd.crosstab(test['Classificação'],test['ClassTweets'],normalize = True)\n",
    "\n",
    "tab"
   ]
  },
  {
   "cell_type": "markdown",
   "metadata": {},
   "source": [
    "___\n",
    "### Concluindo"
   ]
  },
  {
   "cell_type": "code",
   "execution_count": null,
   "metadata": {},
   "outputs": [],
   "source": []
  },
  {
   "cell_type": "code",
   "execution_count": null,
   "metadata": {},
   "outputs": [],
   "source": []
  },
  {
   "cell_type": "code",
   "execution_count": null,
   "metadata": {},
   "outputs": [],
   "source": []
  },
  {
   "cell_type": "markdown",
   "metadata": {},
   "source": [
    "___\n",
    "### Qualidade do Classificador a partir de novas separações dos tweets entre Treinamento e Teste\n",
    "\n",
    "Caso for fazer esse item do Projeto"
   ]
  },
  {
   "cell_type": "code",
   "execution_count": null,
   "metadata": {},
   "outputs": [],
   "source": []
  },
  {
   "cell_type": "code",
   "execution_count": null,
   "metadata": {},
   "outputs": [],
   "source": []
  },
  {
   "cell_type": "code",
   "execution_count": null,
   "metadata": {},
   "outputs": [],
   "source": []
  },
  {
   "cell_type": "markdown",
   "metadata": {},
   "source": [
    "___\n",
    "## Aperfeiçoamento:\n",
    "\n",
    "Os trabalhos vão evoluir em conceito dependendo da quantidade de itens avançados:\n",
    "\n",
    "* Limpar: \\n, :, \", ', (, ), etc SEM remover emojis\n",
    "* Corrigir separação de espaços entre palavras e emojis ou entre emojis e emojis\n",
    "* Propor outras limpezas e transformações que não afetem a qualidade da informação ou classificação\n",
    "* Criar categorias intermediárias de relevância baseadas na probabilidade: ex.: muito relevante, relevante, neutro, irrelevante, muito irrelevante (3 categorias: C, mais categorias conta para B)\n",
    "* Explicar por que não posso usar o próprio classificador para gerar mais amostras de treinamento\n",
    "* Propor diferentes cenários para Naïve Bayes fora do contexto do projeto\n",
    "* Sugerir e explicar melhorias reais com indicações concretas de como implementar (indicar como fazer e indicar material de pesquisa)\n"
   ]
  },
  {
   "cell_type": "markdown",
   "metadata": {},
   "source": [
    "___\n",
    "## Referências"
   ]
  },
  {
   "cell_type": "markdown",
   "metadata": {},
   "source": [
    "[Naive Bayes and Text Classification](https://arxiv.org/pdf/1410.5329.pdf)  **Mais completo**\n",
    "\n",
    "[A practical explanation of a Naive Bayes Classifier](https://monkeylearn.com/blog/practical-explanation-naive-bayes-classifier/) **Mais simples**"
   ]
  },
  {
   "cell_type": "code",
   "execution_count": null,
   "metadata": {},
   "outputs": [],
   "source": []
  }
 ],
 "metadata": {
  "kernelspec": {
   "display_name": "Python 3",
   "language": "python",
   "name": "python3"
  },
  "language_info": {
   "codemirror_mode": {
    "name": "ipython",
    "version": 3
   },
   "file_extension": ".py",
   "mimetype": "text/x-python",
   "name": "python",
   "nbconvert_exporter": "python",
   "pygments_lexer": "ipython3",
   "version": "3.8.3"
  }
 },
 "nbformat": 4,
 "nbformat_minor": 4
}
